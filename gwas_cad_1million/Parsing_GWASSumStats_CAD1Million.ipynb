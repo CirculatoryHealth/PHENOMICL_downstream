{
 "cells": [
  {
   "attachments": {},
   "cell_type": "markdown",
   "metadata": {},
   "source": [
    "# Preparing 'Coronary artery disease (CAD) 1 million hearts' SumStats for GWAS Catalog\n",
    "\n",
    "This notebook serves to inspect `CHD_meta_SAIGE_complete_filtered_30.1.19.out.gz`, and proceses the meta-analysis GWAS data for sharing through _FUMA_ and for (in-house) downstream analyses.\n",
    "\n",
    "Phenotypes:\n",
    "\n",
    "- CAD\n",
    "\n",
    "## Header of the file\n",
    "\n",
    "```\n",
    "MarkerName\tCHR\tBP\tAllele1\tAllele2\tFreq1\tFreqSE\tMinFreq\tMaxFreq\tEffect\tStdErr\tP-value\tDirection\tHetISq\tHetChiSq\tHetDf\tHetPVal\tCases\tEffective_Cases\tN\tMeta_analysis\n",
    "1:61743_C_G\t1\t61743\tc\tg\t0.0061\t0.0009\t0.0019\t0.0064\t-0.11632669\t0.079006163\t0.1409\t-???????+??\t0.0\t0.561\t1\t0.454\t41651\t18141.4\t538622\tCardiogram\n",
    "1:88370_A_G\t1\t88370\ta\tg\t0.0033\t0.0004\t0.0019\t0.0034\t-0.011699052\t0.093564733\t0.9005\t-???????+??\t51.8\t2.077\t1\t0.1496\t41651\t22939.1\t538622\tCardiogram\n",
    "```\n",
    "\n",
    "Order of studies in the 3 meta-analyses (1000G, Metabo, Exome) is as follows:\n",
    "\n",
    "- 1000G c.q. Cardiogram (n=11): UKBB-SAIGE, 1000G, EPIC, GerMIFs5, GerMIFs6, GerMIFs7, deCODE, Greek, HUNT-SAIGE, Partners, TIMI\n",
    "- Exome (n=11): UKBB-SAIGE, Exome, GerMIFs1, GerMIFS2, GerMIFs5, GerMIFs6, GerMIFs7, Greek, deCODE, Partners, TIMI\n",
    "- Metabo (n=10): UKBB-SAIGE, Metabo, GerMIFs4, GerMIFs5, GerMIFs6, GerMIFs7, Greek, HUNT-SAIGE, Partners, TIMI\n",
    "\n",
    "This data was updated on 1st February 2019 with updated meta-analysis results (including TIMI and SAIGE versions of HUNT and UK Biobank) after implementing a post-meta-analysis QC filter, which requires a variant with p<1e-5 from the meta-analysis to have at least 2 studies in the same direction of effect as the overall meta-analysis, and the 2nd largest p-value being less than 0.2. This removes clearly erroneous variants but doesn't remove very many variants in known loci which\n",
    "could be true positives.\n",
    "(NB: this version of the file also corrects the scientific notation introduced into some of the markernames in previous versions of the meta-analysis results and the incorrect frequencies from a bug with the TIMI results)\n",
    "\n",
    "The updated full meta-analysis results are in 'CHD_meta_SAIGE_complete_filtered_30.1.19.out.gz'.\n",
    "\n",
    "Results are in standard METAL format where Allele1 is the 'effect allele' that the effect and frequency columns refer to.\n",
    "Bespoke columns are:\n",
    "\n",
    "- 'Effective_cases', which is the sum of the effective number of cases (calculated as variant-specific info\\*number of cases, with info=1 for genotyped) across studies.\n",
    "- 'Meta_analysis', which lists whether the final result for that variant was from the Cardiogram 1000G, Metabo or Exome meta-analysis (based on maximum number of effective cases)\n",
    "  The order of the studies in the Direction column is at the bottom of this file.\n"
   ]
  },
  {
   "attachments": {},
   "cell_type": "markdown",
   "metadata": {},
   "source": [
    "## Import necessary libraries\n"
   ]
  },
  {
   "cell_type": "code",
   "execution_count": 18,
   "metadata": {},
   "outputs": [],
   "source": [
    "# Function to check for installation of required packages\n",
    "def check_install_package(package_name):\n",
    "    try:\n",
    "        importlib.import_module(package_name)\n",
    "    except ImportError:\n",
    "        print(f'{package_name} is not installed. Installing it now...')\n",
    "        subprocess.check_call(['pip', 'install', package_name])\n",
    "\n",
    "import os\n",
    "import glob\n",
    "import importlib\n",
    "import subprocess\n",
    "import sys\n",
    "\n",
    "# argument parsing\n",
    "import argparse\n",
    "\n",
    "# get date and time\n",
    "from datetime import datetime\n",
    "\n",
    "# Pandas is a fast, powerful, flexible and easy to use open source data analysis and manipulation tool\n",
    "# check_install_package('pandas')\n",
    "import pandas as pd\n",
    "\n",
    "# pyarrow is supperior to loading parquet files\n",
    "# check_install_package('pyarrow')\n",
    "import pyarrow as pa\n",
    "import pyarrow.parquet as pq\n",
    "\n",
    "# polars is a fast dataframe library\n",
    "#check_install_package('polars-lts-cpu')\n",
    "import polars as pl\n",
    "\n",
    "# for statistical analysis\n",
    "# check_install_package('scipy')\n",
    "from scipy import stats\n",
    "import numpy as np\n",
    "\n",
    "# scientific colourmaps\n",
    "# https://www.fabiocrameri.ch/ws/media-library/8c4b111121ff448e843dfef9220bf613/readme_scientificcolourmaps.pdf\n",
    "# check_install_package('cmcrameri')\n",
    "import cmcrameri as ccm\n",
    "from cmcrameri import cm\n",
    "\n",
    "# for plotting\n",
    "# check_install_package('matplotlib')\n",
    "import matplotlib\n",
    "import matplotlib.pyplot as plt\n",
    "# if using a Jupyter notebook, include:\n",
    "%matplotlib inline\n",
    "\n",
    "# use Seaborn for visualisations\n",
    "# check_install_package('seaborn')\n",
    "import seaborn as sns\n"
   ]
  },
  {
   "cell_type": "code",
   "execution_count": null,
   "metadata": {},
   "outputs": [],
   "source": [
    "# for handling GWAS data\n",
    "import gwaslab as gl"
   ]
  },
  {
   "attachments": {},
   "cell_type": "markdown",
   "metadata": {},
   "source": [
    "Creating directories for plots\n"
   ]
  },
  {
   "cell_type": "code",
   "execution_count": 4,
   "metadata": {},
   "outputs": [
    {
     "name": "stdout",
     "output_type": "stream",
     "text": [
      "Checking contents of the reference directory:\n",
      "\u001b[34m1000G\u001b[m\u001b[m\n",
      "\u001b[34mGoNL\u001b[m\u001b[m\n",
      "\u001b[34mHRC_r1_1_2016\u001b[m\u001b[m\n",
      "\u001b[34mHRCr11_1000Gp3v5\u001b[m\u001b[m\n",
      "\u001b[34mdbSNP\u001b[m\u001b[m\n",
      "\u001b[34mfasta\u001b[m\u001b[m\n",
      "\u001b[34mrefgenie_genomes\u001b[m\u001b[m\n",
      "\u001b[34mtcga\u001b[m\u001b[m\n",
      "\n",
      "Checking contents of the GWAS results directory:\n",
      "\u001b[31mCHD_meta_SAIGE_complete_filtered_30.1.19.out.gz\u001b[m\u001b[m\n",
      "\u001b[31mCHD_meta_SAIGE_complete_filtered_30.1.19.out.readme.txt\u001b[m\u001b[m\n",
      "top_hits_cad_Chen_Z_ea_JIM_2021.txt\n",
      "\n"
     ]
    }
   ],
   "source": [
    "# Create directories for the GWAS data and the reference data\n",
    "import os\n",
    "from subprocess import check_output\n",
    "\n",
    "# set some general defaults\n",
    "SUBSTUDY_PHENO = \"CAD1Million\"\n",
    "\n",
    "POPULATION = \"EUR\"\n",
    "\n",
    "PHENOTYPE = \"CAD\"\n",
    "\n",
    "SEX = \"BOTH\"\n",
    "\n",
    "SEX1 = \"FEMALE\"\n",
    "\n",
    "SEX2= \"MALE\"\n",
    "\n",
    "REF_1KG = \"1kg_eur_hg19\"\n",
    "\n",
    "# general plotting directory\n",
    "PLOTS_loc = \"PLOTS\"\n",
    "\n",
    "# Check if the directory exists\n",
    "if not os.path.exists(PLOTS_loc):\n",
    "    # If it doesn't exist, create it\n",
    "    os.makedirs(PLOTS_loc)\n",
    "\n",
    "# regional association plots directory\n",
    "REG_PLOTS_loc = PLOTS_loc + \"/Regional_Association_Plots\"\n",
    "\n",
    "# Check if the directory exists\n",
    "if not os.path.exists(REG_PLOTS_loc):\n",
    "    # If it doesn't exist, create it\n",
    "    os.makedirs(REG_PLOTS_loc)\n",
    "\n",
    "# Reference data directory\n",
    "REF_loc = \"/Users/slaan3/PLINK/references\"\n",
    "print(\"Checking contents of the reference directory:\")\n",
    "print(check_output([\"ls\", os.path.join(REF_loc)]).decode(\"utf8\"))\n",
    "\n",
    "# GWAS data directory\n",
    "GWAS_RES_loc = \"/Users/slaan3/PLINK/_GWAS_Datasets/_CARDIoGRAM/millionhearts\"\n",
    "print(\"Checking contents of the GWAS results directory:\")\n",
    "print(check_output([\"ls\", os.path.join(GWAS_RES_loc)]).decode(\"utf8\"))\n",
    "\n",
    "# Check if the directory exists\n",
    "if not os.path.exists(\"GWASCatalog\"):\n",
    "    # If it doesn't exist, create it\n",
    "    os.makedirs(\"GWASCatalog\")\n",
    "\n",
    "# GWAS Catalog directory\n",
    "GWASCatalog_loc = os.path.join(\"GWASCatalog\")"
   ]
  },
  {
   "cell_type": "markdown",
   "metadata": {},
   "source": [
    "# Loading CAD1M\n",
    "\n",
    "We load in the GWAS on CAD1M.\n"
   ]
  },
  {
   "cell_type": "code",
   "execution_count": 60,
   "metadata": {},
   "outputs": [
    {
     "name": "stderr",
     "output_type": "stream",
     "text": [
      "/var/folders/mm/b4fx9qss7t79pb95gn3k6grh0000gq/T/ipykernel_33050/170960913.py:28: DeprecationWarning: The argument `dtypes` for `read_csv` is deprecated. It has been renamed to `schema_overrides`.\n",
      "  temp = pl.read_csv(\n"
     ]
    }
   ],
   "source": [
    "# read in data\n",
    "# https://stackoverflow.com/questions/33813815/how-to-read-a-parquet-file-into-pandas-dataframe\n",
    "\n",
    "import os\n",
    "import polars as pl\n",
    "\n",
    "# Explicitly define the correct data types for certain columns\n",
    "# There is an error at import (from temp to pandas()):\n",
    "    # Could not parse `X` as dtype `i64` at column 'CHR' (column number 2)\n",
    "    # https://stackoverflow.com/questions/75797640/how-to-specify-column-types-in-python-polars-read-csv\n",
    "    # https://stackoverflow.com/questions/71790235/switching-between-dtypes-within-a-dataframe\n",
    "    # https://pola-rs.github.io/polars/user-guide/concepts/data-types/\n",
    "dtypes = {\n",
    "    \"CHR\": pl.Utf8,\n",
    "    \"BP\": pl.Int64,\n",
    "    \"Freq1\": pl.Float64,\n",
    "    \"FreqSE\": pl.Float64,\n",
    "    \"MinFreq\": pl.Float64,\n",
    "    \"MaxFreq\": pl.Float64,\n",
    "    \"Effect\": pl.Float64,\n",
    "    \"StdErr\": pl.Float64,\n",
    "    \"P-value\": pl.Float64,\n",
    "    \"Cases\": pl.Float64,  # Since there are decimal cases\n",
    "    \"Effective_Cases\": pl.Float64,\n",
    "    \"N\": pl.Float64,\n",
    "}\n",
    "\n",
    "temp = pl.read_csv(\n",
    "    source=os.path.join(GWAS_RES_loc, \"CHD_meta_SAIGE_complete_filtered_30.1.19.out.gz\"),\n",
    "    has_header=True,\n",
    "    separator=\"\\t\",\n",
    "    ignore_errors=False,\n",
    "    dtypes=dtypes,  # Assigning the defined data types\n",
    "    # n_rows=1000, # for debugging\n",
    "    null_values=[\"NA\"], # necessary to fix issues with missing values when reading data\n",
    "    quote_char=None,\n",
    ")\n"
   ]
  },
  {
   "cell_type": "code",
   "execution_count": 61,
   "metadata": {},
   "outputs": [],
   "source": [
    "# Convert Allele1 and Allele2 to uppercase\n",
    "temp = temp.with_columns([\n",
    "    pl.col(\"Allele1\").str.to_uppercase(),\n",
    "    pl.col(\"Allele2\").str.to_uppercase(),\n",
    "])\n",
    "\n",
    "# Replace \"_\" with \":\" in MarkerName and add \"chr\" as a prefix\n",
    "temp = temp.with_columns([\n",
    "    pl.format(\"chr{}\", pl.col(\"MarkerName\").str.replace(\"_\", \":\")).alias(\"MarkerName\")\n",
    "])"
   ]
  },
  {
   "cell_type": "code",
   "execution_count": 62,
   "metadata": {},
   "outputs": [],
   "source": [
    "# Ensure Meta_analysis is of string type using with_columns\n",
    "temp = temp.with_columns(\n",
    "    pl.col(\"Meta_analysis\").cast(pl.Utf8)\n",
    ")"
   ]
  },
  {
   "cell_type": "code",
   "execution_count": 63,
   "metadata": {},
   "outputs": [
    {
     "name": "stderr",
     "output_type": "stream",
     "text": [
      "/var/folders/mm/b4fx9qss7t79pb95gn3k6grh0000gq/T/ipykernel_33050/3572233791.py:10: DeprecationWarning: The `default` parameter for `replace` is deprecated. Use `replace_strict` instead to set a default while replacing values.\n",
      "  pl.col(\"Meta_analysis\").replace(cohort_mapping, default=\"CAD1M\").alias(\"Cohorts\")\n"
     ]
    }
   ],
   "source": [
    "# Define the mapping for cohort values\n",
    "# https://stackoverflow.com/questions/74779644/mapping-a-python-dict-to-a-polars-series\n",
    "cohort_mapping = {\n",
    "    \"Cardiogram\": \"UKBB-SAIGE, 1000G, EPIC, GerMIFs5, GerMIFs6, GerMIFs7, deCODE, Greek, HUNT-SAIGE, Partners, TIMI\",\n",
    "    \"Exome\": \"UKBB-SAIGE, Exome, GerMIFs1, GerMIFS2, GerMIFs5, GerMIFs6, GerMIFs7, Greek, deCODE, Partners, TIMI\",\n",
    "    \"Metabo\": \"UKBB-SAIGE, Metabo, GerMIFs4, GerMIFs5, GerMIFs6, GerMIFs7, Greek, HUNT-SAIGE, Partners, TIMI\"\n",
    "}\n",
    "# Use map_dict to map the Meta_analysis column\n",
    "temp = temp.with_columns(\n",
    "    pl.col(\"Meta_analysis\").replace(cohort_mapping, default=\"CAD1M\").alias(\"Cohorts\")\n",
    ")"
   ]
  },
  {
   "cell_type": "code",
   "execution_count": 65,
   "metadata": {},
   "outputs": [],
   "source": [
    "# Define the mapping for renaming columns\n",
    "rename_mapping = {\n",
    "    \"Allele1\": \"effect_allele\",\n",
    "    \"Allele2\": \"other_allele\",\n",
    "    \"Freq1\": \"EAF\",\n",
    "    \"FreqSE\": \"EAFse\",\n",
    "    \"MinFreq\": \"minEAF\",\n",
    "    \"MaxFreq\": \"maxEAF\"\n",
    "}\n",
    "\n",
    "# Rename the columns using the mapping\n",
    "temp = temp.rename(rename_mapping)"
   ]
  },
  {
   "cell_type": "code",
   "execution_count": 66,
   "metadata": {},
   "outputs": [],
   "source": [
    "# Convert Polars dataframe to pandas dataframe\n",
    "cad1m_data = temp.to_pandas()"
   ]
  },
  {
   "cell_type": "code",
   "execution_count": 67,
   "metadata": {},
   "outputs": [],
   "source": [
    "del temp"
   ]
  },
  {
   "cell_type": "markdown",
   "metadata": {},
   "source": [
    "## Inspection of data\n",
    "\n",
    "Here we do a quick check on what is what in the data.\n"
   ]
  },
  {
   "cell_type": "markdown",
   "metadata": {},
   "source": [
    "### Heads\n",
    "\n",
    "Printing head of data.\n"
   ]
  },
  {
   "cell_type": "code",
   "execution_count": 68,
   "metadata": {},
   "outputs": [
    {
     "data": {
      "text/html": [
       "<div>\n",
       "<style scoped>\n",
       "    .dataframe tbody tr th:only-of-type {\n",
       "        vertical-align: middle;\n",
       "    }\n",
       "\n",
       "    .dataframe tbody tr th {\n",
       "        vertical-align: top;\n",
       "    }\n",
       "\n",
       "    .dataframe thead th {\n",
       "        text-align: right;\n",
       "    }\n",
       "</style>\n",
       "<table border=\"1\" class=\"dataframe\">\n",
       "  <thead>\n",
       "    <tr style=\"text-align: right;\">\n",
       "      <th></th>\n",
       "      <th>MarkerName</th>\n",
       "      <th>CHR</th>\n",
       "      <th>BP</th>\n",
       "      <th>effect_allele</th>\n",
       "      <th>other_allele</th>\n",
       "      <th>EAF</th>\n",
       "      <th>EAFse</th>\n",
       "      <th>minEAF</th>\n",
       "      <th>maxEAF</th>\n",
       "      <th>Effect</th>\n",
       "      <th>...</th>\n",
       "      <th>Direction</th>\n",
       "      <th>HetISq</th>\n",
       "      <th>HetChiSq</th>\n",
       "      <th>HetDf</th>\n",
       "      <th>HetPVal</th>\n",
       "      <th>Cases</th>\n",
       "      <th>Effective_Cases</th>\n",
       "      <th>N</th>\n",
       "      <th>Meta_analysis</th>\n",
       "      <th>Cohorts</th>\n",
       "    </tr>\n",
       "  </thead>\n",
       "  <tbody>\n",
       "    <tr>\n",
       "      <th>0</th>\n",
       "      <td>chr1:61743:C_G</td>\n",
       "      <td>1</td>\n",
       "      <td>61743</td>\n",
       "      <td>C</td>\n",
       "      <td>G</td>\n",
       "      <td>0.0061</td>\n",
       "      <td>0.0009</td>\n",
       "      <td>0.0019</td>\n",
       "      <td>0.0064</td>\n",
       "      <td>-0.116327</td>\n",
       "      <td>...</td>\n",
       "      <td>-???????+??</td>\n",
       "      <td>0.0</td>\n",
       "      <td>0.561</td>\n",
       "      <td>1</td>\n",
       "      <td>0.45400</td>\n",
       "      <td>41651.0</td>\n",
       "      <td>18141.4</td>\n",
       "      <td>538622.0</td>\n",
       "      <td>Cardiogram</td>\n",
       "      <td>UKBB-SAIGE, 1000G, EPIC, GerMIFs5, GerMIFs6, G...</td>\n",
       "    </tr>\n",
       "    <tr>\n",
       "      <th>1</th>\n",
       "      <td>chr1:88370:A_G</td>\n",
       "      <td>1</td>\n",
       "      <td>88370</td>\n",
       "      <td>A</td>\n",
       "      <td>G</td>\n",
       "      <td>0.0033</td>\n",
       "      <td>0.0004</td>\n",
       "      <td>0.0019</td>\n",
       "      <td>0.0034</td>\n",
       "      <td>-0.011699</td>\n",
       "      <td>...</td>\n",
       "      <td>-???????+??</td>\n",
       "      <td>51.8</td>\n",
       "      <td>2.077</td>\n",
       "      <td>1</td>\n",
       "      <td>0.14960</td>\n",
       "      <td>41651.0</td>\n",
       "      <td>22939.1</td>\n",
       "      <td>538622.0</td>\n",
       "      <td>Cardiogram</td>\n",
       "      <td>UKBB-SAIGE, 1000G, EPIC, GerMIFs5, GerMIFs6, G...</td>\n",
       "    </tr>\n",
       "    <tr>\n",
       "      <th>2</th>\n",
       "      <td>chr1:108382:A_C</td>\n",
       "      <td>1</td>\n",
       "      <td>108382</td>\n",
       "      <td>A</td>\n",
       "      <td>C</td>\n",
       "      <td>0.0008</td>\n",
       "      <td>0.0000</td>\n",
       "      <td>0.0007</td>\n",
       "      <td>0.0008</td>\n",
       "      <td>0.263852</td>\n",
       "      <td>...</td>\n",
       "      <td>+???????-??</td>\n",
       "      <td>0.0</td>\n",
       "      <td>0.932</td>\n",
       "      <td>1</td>\n",
       "      <td>0.33440</td>\n",
       "      <td>41651.0</td>\n",
       "      <td>26336.9</td>\n",
       "      <td>538622.0</td>\n",
       "      <td>Cardiogram</td>\n",
       "      <td>UKBB-SAIGE, 1000G, EPIC, GerMIFs5, GerMIFs6, G...</td>\n",
       "    </tr>\n",
       "    <tr>\n",
       "      <th>3</th>\n",
       "      <td>chr1:233476:A_G</td>\n",
       "      <td>1</td>\n",
       "      <td>233476</td>\n",
       "      <td>A</td>\n",
       "      <td>G</td>\n",
       "      <td>0.0055</td>\n",
       "      <td>0.0012</td>\n",
       "      <td>0.0049</td>\n",
       "      <td>0.0081</td>\n",
       "      <td>0.094606</td>\n",
       "      <td>...</td>\n",
       "      <td>+???????-??</td>\n",
       "      <td>63.1</td>\n",
       "      <td>2.713</td>\n",
       "      <td>1</td>\n",
       "      <td>0.09955</td>\n",
       "      <td>41651.0</td>\n",
       "      <td>17869.6</td>\n",
       "      <td>538622.0</td>\n",
       "      <td>Cardiogram</td>\n",
       "      <td>UKBB-SAIGE, 1000G, EPIC, GerMIFs5, GerMIFs6, G...</td>\n",
       "    </tr>\n",
       "    <tr>\n",
       "      <th>4</th>\n",
       "      <td>chr1:526832:C_G</td>\n",
       "      <td>1</td>\n",
       "      <td>526832</td>\n",
       "      <td>C</td>\n",
       "      <td>G</td>\n",
       "      <td>0.0367</td>\n",
       "      <td>0.0076</td>\n",
       "      <td>0.0271</td>\n",
       "      <td>0.0427</td>\n",
       "      <td>-0.001923</td>\n",
       "      <td>...</td>\n",
       "      <td>+?????-????</td>\n",
       "      <td>0.0</td>\n",
       "      <td>0.584</td>\n",
       "      <td>1</td>\n",
       "      <td>0.44480</td>\n",
       "      <td>72859.0</td>\n",
       "      <td>50163.8</td>\n",
       "      <td>829210.0</td>\n",
       "      <td>Cardiogram</td>\n",
       "      <td>UKBB-SAIGE, 1000G, EPIC, GerMIFs5, GerMIFs6, G...</td>\n",
       "    </tr>\n",
       "  </tbody>\n",
       "</table>\n",
       "<p>5 rows × 22 columns</p>\n",
       "</div>"
      ],
      "text/plain": [
       "        MarkerName CHR      BP effect_allele other_allele     EAF   EAFse  \\\n",
       "0   chr1:61743:C_G   1   61743             C            G  0.0061  0.0009   \n",
       "1   chr1:88370:A_G   1   88370             A            G  0.0033  0.0004   \n",
       "2  chr1:108382:A_C   1  108382             A            C  0.0008  0.0000   \n",
       "3  chr1:233476:A_G   1  233476             A            G  0.0055  0.0012   \n",
       "4  chr1:526832:C_G   1  526832             C            G  0.0367  0.0076   \n",
       "\n",
       "   minEAF  maxEAF    Effect  ...    Direction  HetISq HetChiSq  HetDf  \\\n",
       "0  0.0019  0.0064 -0.116327  ...  -???????+??     0.0    0.561      1   \n",
       "1  0.0019  0.0034 -0.011699  ...  -???????+??    51.8    2.077      1   \n",
       "2  0.0007  0.0008  0.263852  ...  +???????-??     0.0    0.932      1   \n",
       "3  0.0049  0.0081  0.094606  ...  +???????-??    63.1    2.713      1   \n",
       "4  0.0271  0.0427 -0.001923  ...  +?????-????     0.0    0.584      1   \n",
       "\n",
       "   HetPVal    Cases  Effective_Cases         N  Meta_analysis  \\\n",
       "0  0.45400  41651.0          18141.4  538622.0     Cardiogram   \n",
       "1  0.14960  41651.0          22939.1  538622.0     Cardiogram   \n",
       "2  0.33440  41651.0          26336.9  538622.0     Cardiogram   \n",
       "3  0.09955  41651.0          17869.6  538622.0     Cardiogram   \n",
       "4  0.44480  72859.0          50163.8  829210.0     Cardiogram   \n",
       "\n",
       "                                             Cohorts  \n",
       "0  UKBB-SAIGE, 1000G, EPIC, GerMIFs5, GerMIFs6, G...  \n",
       "1  UKBB-SAIGE, 1000G, EPIC, GerMIFs5, GerMIFs6, G...  \n",
       "2  UKBB-SAIGE, 1000G, EPIC, GerMIFs5, GerMIFs6, G...  \n",
       "3  UKBB-SAIGE, 1000G, EPIC, GerMIFs5, GerMIFs6, G...  \n",
       "4  UKBB-SAIGE, 1000G, EPIC, GerMIFs5, GerMIFs6, G...  \n",
       "\n",
       "[5 rows x 22 columns]"
      ]
     },
     "execution_count": 68,
     "metadata": {},
     "output_type": "execute_result"
    }
   ],
   "source": [
    "cad1m_data.head()"
   ]
  },
  {
   "cell_type": "markdown",
   "metadata": {},
   "source": [
    "### Shapes\n",
    "\n",
    "Printing shapes of data.\n"
   ]
  },
  {
   "cell_type": "code",
   "execution_count": 69,
   "metadata": {},
   "outputs": [
    {
     "name": "stdout",
     "output_type": "stream",
     "text": [
      "Printing shape of data:\n",
      " (20073070, 22)\n"
     ]
    }
   ],
   "source": [
    "print(\"Printing shape of data:\\n\", cad1m_data.shape)"
   ]
  },
  {
   "cell_type": "markdown",
   "metadata": {},
   "source": [
    "### Columns\n",
    "\n",
    "Printing columns of data.\n"
   ]
  },
  {
   "cell_type": "code",
   "execution_count": 70,
   "metadata": {},
   "outputs": [
    {
     "name": "stdout",
     "output_type": "stream",
     "text": [
      "Printing columns of data:\n",
      " Index(['MarkerName', 'CHR', 'BP', 'effect_allele', 'other_allele', 'EAF',\n",
      "       'EAFse', 'minEAF', 'maxEAF', 'Effect', 'StdErr', 'P-value', 'Direction',\n",
      "       'HetISq', 'HetChiSq', 'HetDf', 'HetPVal', 'Cases', 'Effective_Cases',\n",
      "       'N', 'Meta_analysis', 'Cohorts'],\n",
      "      dtype='object')\n"
     ]
    }
   ],
   "source": [
    "print(\"Printing columns of data:\\n\", cad1m_data.columns)"
   ]
  },
  {
   "cell_type": "markdown",
   "metadata": {},
   "source": [
    "### Info\n",
    "\n",
    "Printing info of data.\n"
   ]
  },
  {
   "cell_type": "code",
   "execution_count": 71,
   "metadata": {},
   "outputs": [
    {
     "name": "stdout",
     "output_type": "stream",
     "text": [
      "<class 'pandas.core.frame.DataFrame'>\n",
      "RangeIndex: 20073070 entries, 0 to 20073069\n",
      "Data columns (total 22 columns):\n",
      " #   Column           Dtype  \n",
      "---  ------           -----  \n",
      " 0   MarkerName       object \n",
      " 1   CHR              object \n",
      " 2   BP               int64  \n",
      " 3   effect_allele    object \n",
      " 4   other_allele     object \n",
      " 5   EAF              float64\n",
      " 6   EAFse            float64\n",
      " 7   minEAF           float64\n",
      " 8   maxEAF           float64\n",
      " 9   Effect           float64\n",
      " 10  StdErr           float64\n",
      " 11  P-value          float64\n",
      " 12  Direction        object \n",
      " 13  HetISq           float64\n",
      " 14  HetChiSq         float64\n",
      " 15  HetDf            int64  \n",
      " 16  HetPVal          float64\n",
      " 17  Cases            float64\n",
      " 18  Effective_Cases  float64\n",
      " 19  N                float64\n",
      " 20  Meta_analysis    object \n",
      " 21  Cohorts          object \n",
      "dtypes: float64(13), int64(2), object(7)\n",
      "memory usage: 3.3+ GB\n",
      "Printing info of data:\n",
      " None\n"
     ]
    }
   ],
   "source": [
    "print(\"Printing info of data:\\n\", cad1m_data.info())"
   ]
  },
  {
   "cell_type": "markdown",
   "metadata": {},
   "source": [
    "### Column statistics\n",
    "\n",
    "Getting some per column summary statistics of data.\n"
   ]
  },
  {
   "cell_type": "code",
   "execution_count": 72,
   "metadata": {},
   "outputs": [
    {
     "name": "stdout",
     "output_type": "stream",
     "text": [
      "Printing describe of data:\n",
      "                  BP           EAF         EAFse        minEAF        maxEAF  \\\n",
      "count  2.007307e+07  2.007307e+07  2.007307e+07  2.007307e+07  2.007307e+07   \n",
      "mean   7.899803e+07  4.331528e-01  9.692813e-03  4.174549e-01  4.491971e-01   \n",
      "std    5.629220e+07  4.266593e-01  1.712309e-02  4.241556e-01  4.268953e-01   \n",
      "min    5.200000e+01  0.000000e+00  0.000000e+00  0.000000e+00  1.000000e-04   \n",
      "25%    3.274436e+07  7.500000e-03  6.000000e-04  2.300000e-03  9.900000e-03   \n",
      "50%    6.963363e+07  2.682000e-01  3.400000e-03  2.333000e-01  3.002000e-01   \n",
      "75%    1.147473e+08  9.595000e-01  1.240000e-02  9.192000e-01  9.781000e-01   \n",
      "max    2.492393e+08  1.000000e+00  4.996000e-01  9.999000e-01  1.000000e+00   \n",
      "\n",
      "             Effect        StdErr        P-value        HetISq      HetChiSq  \\\n",
      "count  2.007307e+07  2.007307e+07   2.007307e+07  2.007307e+07  2.007307e+07   \n",
      "mean   2.841987e-04  6.735252e-02   4.788216e-01  1.311673e+01  4.620753e+00   \n",
      "std    1.024521e-01  7.824830e-02   2.958077e-01  2.120421e+01  4.639067e+00   \n",
      "min   -2.746885e+00  4.331901e-03  4.990000e-278  0.000000e+00  0.000000e+00   \n",
      "25%   -1.761582e-02  8.101549e-03   2.176000e-01  0.000000e+00  9.190000e-01   \n",
      "50%    6.008331e-05  3.401012e-02   4.730000e-01  0.000000e+00  3.117000e+00   \n",
      "75%    1.801167e-02  1.022911e-01   7.352000e-01  2.280000e+01  7.111000e+00   \n",
      "max    2.673562e+00  1.124352e+00   1.000000e+00  9.720000e+01  2.883350e+02   \n",
      "\n",
      "              HetDf       HetPVal         Cases  Effective_Cases             N  \n",
      "count  2.007307e+07  2.007307e+07  2.007307e+07     2.007307e+07  2.007307e+07  \n",
      "mean   4.649081e+00  5.033698e-01  1.170100e+05     1.094880e+05  9.227885e+05  \n",
      "std    3.472736e+00  2.884003e-01  5.031892e+04     5.250789e+04  2.335532e+05  \n",
      "min    1.000000e+00  4.533000e-56  3.003400e+04     1.369750e+04  4.697300e+04  \n",
      "25%    2.000000e+00  2.541000e-01  7.285900e+04     6.541650e+04  8.292100e+05  \n",
      "50%    3.000000e+00  5.047000e-01  9.845600e+04     9.370470e+04  9.222340e+05  \n",
      "75%    9.000000e+00  7.532000e-01  1.715070e+05     1.673840e+05  1.143150e+06  \n",
      "max    1.000000e+01  1.000000e+00  1.815230e+05     1.815210e+05  1.165720e+06  \n"
     ]
    }
   ],
   "source": [
    "print(\"Printing describe of data:\\n\", cad1m_data.describe())"
   ]
  },
  {
   "attachments": {},
   "cell_type": "markdown",
   "metadata": {},
   "source": [
    "### Basic visualisations\n",
    "\n",
    "Here we plot histograms of allele frequencies, effect, and sample size .\n"
   ]
  },
  {
   "attachments": {},
   "cell_type": "markdown",
   "metadata": {},
   "source": [
    "#### Sampling from the data\n",
    "\n",
    "Here we provide an example on how to take a sample of n=800,000 rows, representing ±10% of the data, for easy plotting. This should be representative for most things we are interested in.\n"
   ]
  },
  {
   "cell_type": "code",
   "execution_count": 73,
   "metadata": {},
   "outputs": [],
   "source": [
    "# example code to get a sample\n",
    "cad1m_data_sample = cad1m_data.sample(800000)"
   ]
  },
  {
   "cell_type": "code",
   "execution_count": 74,
   "metadata": {},
   "outputs": [
    {
     "data": {
      "image/png": "[encoded data removed]",
      "text/plain": [
       "<Figure size 640x480 with 1 Axes>"
      ]
     },
     "metadata": {},
     "output_type": "display_data"
    }
   ],
   "source": [
    "import seaborn as sns\n",
    "\n",
    "sns.histplot(\n",
    "    data=cad1m_data,  # gwas_combo_sample,\n",
    "    x=\"EAF\",\n",
    "    bins=25,\n",
    "    kde=False,\n",
    "    stat=\"frequency\",\n",
    "    color=\"#1290D9\",\n",
    ")\n",
    "\n",
    "# plt.savefig(\n",
    "#     os.path.join(PLOTS_loc, \"histogram.EAF.WOMEN.\" + POPULATION + \".png\"),\n",
    "#     dpi=300,\n",
    "#     bbox_inches=\"tight\",\n",
    "#     format=\"png\",\n",
    "# )\n",
    "plt.savefig(\n",
    "    os.path.join(PLOTS_loc, \"histogram.EAF.\" + PHENOTYPE + \"_\" + SEX + \"_\" + POPULATION + \".pdf\"),\n",
    "    dpi=300,\n",
    "    bbox_inches=\"tight\",\n",
    "    format=\"pdf\",\n",
    ")"
   ]
  },
  {
   "cell_type": "code",
   "execution_count": 75,
   "metadata": {},
   "outputs": [
    {
     "data": {
      "image/png": "[encoded data removed]",
      "text/plain": [
       "<Figure size 640x480 with 1 Axes>"
      ]
     },
     "metadata": {},
     "output_type": "display_data"
    }
   ],
   "source": [
    "sns.histplot(\n",
    "    data=cad1m_data,  # gwas_combo_sample,\n",
    "    x=\"Effect\",\n",
    "    bins=25,\n",
    "    kde=False,\n",
    "    stat=\"frequency\",\n",
    "    color=\"#E55738\",\n",
    ")\n",
    "\n",
    "# plt.savefig(\n",
    "#     os.path.join(PLOTS_loc, \"histogram.effect.WOMEN.\" + POPULATION + \".png\"),\n",
    "#     dpi=300,\n",
    "#     bbox_inches=\"tight\",\n",
    "#     format=\"png\",\n",
    "# )\n",
    "plt.savefig(\n",
    "    os.path.join(PLOTS_loc, \"histogram.effect.\" + PHENOTYPE + \"_\" + SEX + \"_\" + POPULATION + \".pdf\"),\n",
    "    dpi=300,\n",
    "    bbox_inches=\"tight\",\n",
    "    format=\"pdf\",\n",
    ")"
   ]
  },
  {
   "attachments": {},
   "cell_type": "markdown",
   "metadata": {},
   "source": [
    "### SumStats quality control\n",
    "\n",
    "Here we first check and fix headers, and contents of the SumStats object.\n",
    "\n",
    "First, we load the data and inspect it using `GWASLab`. Note that for this to work, some column types need to be adjusted.\n",
    "\n",
    "```\n",
    " 0   SNP                object\n",
    " 1   CHR                object\n",
    " 2   POS                int64\n",
    " 3   HAPMAP_A1_FREQ     float64\n",
    " 4   CODED_ALLELE       object\n",
    " 5   NONCODED_ALLELE    object\n",
    " 6   CODED_ALLELE_FREQ  float64\n",
    " 7   N_EFF              float64\n",
    " 8   P_SQRTN            float64\n",
    " 9   BETA_FIXED         float64\n",
    " 10  SE_FIXED           float64\n",
    " 11  P_FIXED            float64\n",
    " 12  P_RANDOM           float64\n",
    " 13  DF                 int64\n",
    " 14  P_COCHRANS_Q       float64\n",
    " 15  I_SQUARED          float64\n",
    " 16  DIRECTIONS         object\n",
    " 17  GENES_1000KB       object\n",
    " 18  NEAREST_GENE       object\n",
    " 19  CAVEAT             object\n",
    "```\n"
   ]
  },
  {
   "cell_type": "code",
   "execution_count": null,
   "metadata": {},
   "outputs": [],
   "source": [
    "# cimt_data[[\"CHR\"]] = cimt_data[[\"CHR\"]].astype(\"object\")"
   ]
  },
  {
   "cell_type": "code",
   "execution_count": null,
   "metadata": {},
   "outputs": [],
   "source": [
    "# cimt_data[[\"POS\"]] = cimt_data[[\"POS\"]].astype(\"Int64\")"
   ]
  },
  {
   "cell_type": "code",
   "execution_count": null,
   "metadata": {},
   "outputs": [],
   "source": [
    "# # create new SNPID column based on chromosome, position, and alleles\n",
    "# # down the road we need an SNPID column to merge with the reference data and which does not contain 'ID' because this is not correctly interpreted by GWASLab\n",
    "# cimt_data[\"SNPID\"] = (\n",
    "#     cimt_data[\"CHR\"].astype(str)\n",
    "#     + \":\"\n",
    "#     + cimt_data[\"POS\"].astype(str)\n",
    "#     + \":\"\n",
    "#     + cimt_data[\"OTHERALLELE\"].astype(str)\n",
    "#     + \":\"\n",
    "#     + cimt_data[\"CODEDALLELE\"].astype(str)\n",
    "# )\n",
    "\n",
    "# # from an *.out file at /hpc/dhl_ec/svanderlaan/projects/sign/vonberg_joanna/2.Age.of.onset/linreg_aoo_unrestricted_bolt/amr.everything.butwhi/xx.group\n",
    "# # cimt_data[\"N\"] = 5344"
   ]
  },
  {
   "cell_type": "code",
   "execution_count": null,
   "metadata": {},
   "outputs": [],
   "source": [
    "# cimt_data.head()"
   ]
  },
  {
   "cell_type": "code",
   "execution_count": null,
   "metadata": {},
   "outputs": [],
   "source": [
    "# cimt_data.rename(columns={\"SNP\": \"VariantID\"}, inplace=True)"
   ]
  },
  {
   "cell_type": "markdown",
   "metadata": {},
   "source": [
    "### Converting to GWASLab object\n",
    "\n",
    "Here we are ready to load the data and inspect it using `GWASLab`.\n"
   ]
  },
  {
   "cell_type": "code",
   "execution_count": 76,
   "metadata": {},
   "outputs": [],
   "source": [
    "# cimt_data_sumstats.data"
   ]
  },
  {
   "cell_type": "code",
   "execution_count": 77,
   "metadata": {},
   "outputs": [
    {
     "ename": "ImportError",
     "evalue": "dlopen(/Users/slaan3/miniforge3/envs/gwaslab/lib/python3.9/site-packages/liftover/chain_file.cpython-39-darwin.so, 0x0002): Library not loaded: /usr/local/opt/llvm/lib/libunwind.1.dylib\n  Referenced from: <C7189951-C303-3D12-9E0C-787B1049DFF1> /Users/slaan3/miniforge3/envs/gwaslab/lib/python3.9/site-packages/liftover/chain_file.cpython-39-darwin.so\n  Reason: tried: '/usr/local/opt/llvm/lib/libunwind.1.dylib' (no such file), '/System/Volumes/Preboot/Cryptexes/OS/usr/local/opt/llvm/lib/libunwind.1.dylib' (no such file), '/usr/local/opt/llvm/lib/libunwind.1.dylib' (no such file), '/usr/local/lib/libunwind.1.dylib' (no such file), '/usr/lib/libunwind.1.dylib' (no such file, not in dyld cache), '/usr/local/Cellar/llvm/19.1.2/lib/libunwind.1.dylib' (no such file), '/System/Volumes/Preboot/Cryptexes/OS/usr/local/Cellar/llvm/19.1.2/lib/libunwind.1.dylib' (no such file), '/usr/local/Cellar/llvm/19.1.2/lib/libunwind.1.dylib' (no such file), '/usr/local/lib/libunwind.1.dylib' (no such file), '/usr/lib/libunwind.1.dylib' (no such file, not in dyld cache)",
     "output_type": "error",
     "traceback": [
      "\u001b[0;31m---------------------------------------------------------------------------\u001b[0m",
      "\u001b[0;31mImportError\u001b[0m                               Traceback (most recent call last)",
      "Cell \u001b[0;32mIn[77], line 1\u001b[0m\n\u001b[0;32m----> 1\u001b[0m \u001b[38;5;28;01mimport\u001b[39;00m \u001b[38;5;21;01mgwaslab\u001b[39;00m \u001b[38;5;28;01mas\u001b[39;00m \u001b[38;5;21;01mgl\u001b[39;00m\n\u001b[1;32m      3\u001b[0m \u001b[38;5;66;03m# Specify the columns:\u001b[39;00m\n\u001b[1;32m      4\u001b[0m cimt_data_sumstats_female \u001b[38;5;241m=\u001b[39m gl\u001b[38;5;241m.\u001b[39mSumstats(\n\u001b[1;32m      5\u001b[0m     cimt_data_female,\n\u001b[1;32m      6\u001b[0m     snpid\u001b[38;5;241m=\u001b[39m\u001b[38;5;124m\"\u001b[39m\u001b[38;5;124mVARIANTID\u001b[39m\u001b[38;5;124m\"\u001b[39m,\n\u001b[0;32m   (...)\u001b[0m\n\u001b[1;32m     27\u001b[0m     verbose\u001b[38;5;241m=\u001b[39m\u001b[38;5;28;01mTrue\u001b[39;00m,\n\u001b[1;32m     28\u001b[0m )\n",
      "File \u001b[0;32m~/miniforge3/envs/gwaslab/lib/python3.9/site-packages/gwaslab/__init__.py:1\u001b[0m\n\u001b[0;32m----> 1\u001b[0m \u001b[38;5;28;01mfrom\u001b[39;00m \u001b[38;5;21;01mgwaslab\u001b[39;00m\u001b[38;5;21;01m.\u001b[39;00m\u001b[38;5;21;01mg_Sumstats\u001b[39;00m \u001b[38;5;28;01mimport\u001b[39;00m Sumstats\n\u001b[1;32m      2\u001b[0m \u001b[38;5;28;01mfrom\u001b[39;00m \u001b[38;5;21;01mgwaslab\u001b[39;00m\u001b[38;5;21;01m.\u001b[39;00m\u001b[38;5;21;01mg_SumstatsT\u001b[39;00m \u001b[38;5;28;01mimport\u001b[39;00m SumstatsT\n\u001b[1;32m      3\u001b[0m \u001b[38;5;28;01mfrom\u001b[39;00m \u001b[38;5;21;01mgwaslab\u001b[39;00m\u001b[38;5;21;01m.\u001b[39;00m\u001b[38;5;21;01mg_SumstatsPair\u001b[39;00m \u001b[38;5;28;01mimport\u001b[39;00m SumstatsPair\n",
      "File \u001b[0;32m~/miniforge3/envs/gwaslab/lib/python3.9/site-packages/gwaslab/g_Sumstats.py:7\u001b[0m\n\u001b[1;32m      5\u001b[0m \u001b[38;5;28;01mfrom\u001b[39;00m \u001b[38;5;21;01mgwaslab\u001b[39;00m\u001b[38;5;21;01m.\u001b[39;00m\u001b[38;5;21;01mg_Sumstats_summary\u001b[39;00m \u001b[38;5;28;01mimport\u001b[39;00m summarize\n\u001b[1;32m      6\u001b[0m \u001b[38;5;28;01mfrom\u001b[39;00m \u001b[38;5;21;01mgwaslab\u001b[39;00m\u001b[38;5;21;01m.\u001b[39;00m\u001b[38;5;21;01mg_Sumstats_summary\u001b[39;00m \u001b[38;5;28;01mimport\u001b[39;00m lookupstatus\n\u001b[0;32m----> 7\u001b[0m \u001b[38;5;28;01mfrom\u001b[39;00m \u001b[38;5;21;01mgwaslab\u001b[39;00m\u001b[38;5;21;01m.\u001b[39;00m\u001b[38;5;21;01mio_preformat_input\u001b[39;00m \u001b[38;5;28;01mimport\u001b[39;00m preformat\n\u001b[1;32m      8\u001b[0m \u001b[38;5;28;01mfrom\u001b[39;00m \u001b[38;5;21;01mgwaslab\u001b[39;00m\u001b[38;5;21;01m.\u001b[39;00m\u001b[38;5;21;01mio_to_formats\u001b[39;00m \u001b[38;5;28;01mimport\u001b[39;00m _to_format\n\u001b[1;32m      9\u001b[0m \u001b[38;5;28;01mfrom\u001b[39;00m \u001b[38;5;21;01mgwaslab\u001b[39;00m\u001b[38;5;21;01m.\u001b[39;00m\u001b[38;5;21;01mg_Log\u001b[39;00m \u001b[38;5;28;01mimport\u001b[39;00m Log\n",
      "File \u001b[0;32m~/miniforge3/envs/gwaslab/lib/python3.9/site-packages/gwaslab/io_preformat_input.py:8\u001b[0m\n\u001b[1;32m      6\u001b[0m \u001b[38;5;28;01mimport\u001b[39;00m \u001b[38;5;21;01mgc\u001b[39;00m\n\u001b[1;32m      7\u001b[0m \u001b[38;5;28;01mfrom\u001b[39;00m \u001b[38;5;21;01mgwaslab\u001b[39;00m\u001b[38;5;21;01m.\u001b[39;00m\u001b[38;5;21;01mbd_common_data\u001b[39;00m \u001b[38;5;28;01mimport\u001b[39;00m get_format_dict\n\u001b[0;32m----> 8\u001b[0m \u001b[38;5;28;01mfrom\u001b[39;00m \u001b[38;5;21;01mgwaslab\u001b[39;00m\u001b[38;5;21;01m.\u001b[39;00m\u001b[38;5;21;01mqc_fix_sumstats\u001b[39;00m \u001b[38;5;28;01mimport\u001b[39;00m sortcolumn\n\u001b[1;32m      9\u001b[0m \u001b[38;5;28;01mfrom\u001b[39;00m \u001b[38;5;21;01mgwaslab\u001b[39;00m\u001b[38;5;21;01m.\u001b[39;00m\u001b[38;5;21;01mqc_fix_sumstats\u001b[39;00m \u001b[38;5;28;01mimport\u001b[39;00m _process_build\n\u001b[1;32m     10\u001b[0m \u001b[38;5;28;01mfrom\u001b[39;00m \u001b[38;5;21;01mgwaslab\u001b[39;00m\u001b[38;5;21;01m.\u001b[39;00m\u001b[38;5;21;01mqc_check_datatype\u001b[39;00m \u001b[38;5;28;01mimport\u001b[39;00m check_datatype\n",
      "File \u001b[0;32m~/miniforge3/envs/gwaslab/lib/python3.9/site-packages/gwaslab/qc_fix_sumstats.py:7\u001b[0m\n\u001b[1;32m      5\u001b[0m \u001b[38;5;28;01mfrom\u001b[39;00m \u001b[38;5;21;01mitertools\u001b[39;00m \u001b[38;5;28;01mimport\u001b[39;00m repeat\n\u001b[1;32m      6\u001b[0m \u001b[38;5;28;01mfrom\u001b[39;00m \u001b[38;5;21;01mmultiprocessing\u001b[39;00m \u001b[38;5;28;01mimport\u001b[39;00m  Pool\n\u001b[0;32m----> 7\u001b[0m \u001b[38;5;28;01mfrom\u001b[39;00m \u001b[38;5;21;01mliftover\u001b[39;00m \u001b[38;5;28;01mimport\u001b[39;00m get_lifter\n\u001b[1;32m      8\u001b[0m \u001b[38;5;28;01mfrom\u001b[39;00m \u001b[38;5;21;01mfunctools\u001b[39;00m \u001b[38;5;28;01mimport\u001b[39;00m partial\n\u001b[1;32m      9\u001b[0m \u001b[38;5;28;01mfrom\u001b[39;00m \u001b[38;5;21;01mgwaslab\u001b[39;00m\u001b[38;5;21;01m.\u001b[39;00m\u001b[38;5;21;01mg_vchange_status\u001b[39;00m \u001b[38;5;28;01mimport\u001b[39;00m vchange_status\n",
      "File \u001b[0;32m~/miniforge3/envs/gwaslab/lib/python3.9/site-packages/liftover/__init__.py:6\u001b[0m\n\u001b[1;32m      3\u001b[0m \u001b[38;5;18m__name__\u001b[39m \u001b[38;5;241m=\u001b[39m \u001b[38;5;124m'\u001b[39m\u001b[38;5;124mliftover\u001b[39m\u001b[38;5;124m'\u001b[39m\n\u001b[1;32m      4\u001b[0m __version__ \u001b[38;5;241m=\u001b[39m version(\u001b[38;5;18m__name__\u001b[39m)\n\u001b[0;32m----> 6\u001b[0m \u001b[38;5;28;01mfrom\u001b[39;00m \u001b[38;5;21;01mliftover\u001b[39;00m\u001b[38;5;21;01m.\u001b[39;00m\u001b[38;5;21;01mlifter\u001b[39;00m \u001b[38;5;28;01mimport\u001b[39;00m get_lifter\n\u001b[1;32m      7\u001b[0m \u001b[38;5;28;01mfrom\u001b[39;00m \u001b[38;5;21;01mliftover\u001b[39;00m\u001b[38;5;21;01m.\u001b[39;00m\u001b[38;5;21;01mchain_file\u001b[39;00m \u001b[38;5;28;01mimport\u001b[39;00m ChainFile\n",
      "File \u001b[0;32m~/miniforge3/envs/gwaslab/lib/python3.9/site-packages/liftover/lifter.py:4\u001b[0m\n\u001b[1;32m      2\u001b[0m \u001b[38;5;28;01mimport\u001b[39;00m \u001b[38;5;21;01mos\u001b[39;00m\n\u001b[0;32m----> 4\u001b[0m \u001b[38;5;28;01mfrom\u001b[39;00m \u001b[38;5;21;01mliftover\u001b[39;00m\u001b[38;5;21;01m.\u001b[39;00m\u001b[38;5;21;01mchain_file\u001b[39;00m \u001b[38;5;28;01mimport\u001b[39;00m ChainFile\n\u001b[1;32m      5\u001b[0m \u001b[38;5;28;01mfrom\u001b[39;00m \u001b[38;5;21;01mliftover\u001b[39;00m\u001b[38;5;21;01m.\u001b[39;00m\u001b[38;5;21;01mdownload_file\u001b[39;00m \u001b[38;5;28;01mimport\u001b[39;00m download_file\n\u001b[1;32m      7\u001b[0m \u001b[38;5;28;01mdef\u001b[39;00m \u001b[38;5;21mget_lifter\u001b[39m(target: \u001b[38;5;28mstr\u001b[39m, query: \u001b[38;5;28mstr\u001b[39m, cache: \u001b[38;5;28mstr\u001b[39m\u001b[38;5;241m=\u001b[39m\u001b[38;5;28;01mNone\u001b[39;00m, one_based\u001b[38;5;241m=\u001b[39m\u001b[38;5;28;01mFalse\u001b[39;00m, chain_server\u001b[38;5;241m=\u001b[39m\u001b[38;5;124m'\u001b[39m\u001b[38;5;124mhttps://hgdownload.soe.ucsc.edu\u001b[39m\u001b[38;5;124m'\u001b[39m):\n",
      "\u001b[0;31mImportError\u001b[0m: dlopen(/Users/slaan3/miniforge3/envs/gwaslab/lib/python3.9/site-packages/liftover/chain_file.cpython-39-darwin.so, 0x0002): Library not loaded: /usr/local/opt/llvm/lib/libunwind.1.dylib\n  Referenced from: <C7189951-C303-3D12-9E0C-787B1049DFF1> /Users/slaan3/miniforge3/envs/gwaslab/lib/python3.9/site-packages/liftover/chain_file.cpython-39-darwin.so\n  Reason: tried: '/usr/local/opt/llvm/lib/libunwind.1.dylib' (no such file), '/System/Volumes/Preboot/Cryptexes/OS/usr/local/opt/llvm/lib/libunwind.1.dylib' (no such file), '/usr/local/opt/llvm/lib/libunwind.1.dylib' (no such file), '/usr/local/lib/libunwind.1.dylib' (no such file), '/usr/lib/libunwind.1.dylib' (no such file, not in dyld cache), '/usr/local/Cellar/llvm/19.1.2/lib/libunwind.1.dylib' (no such file), '/System/Volumes/Preboot/Cryptexes/OS/usr/local/Cellar/llvm/19.1.2/lib/libunwind.1.dylib' (no such file), '/usr/local/Cellar/llvm/19.1.2/lib/libunwind.1.dylib' (no such file), '/usr/local/lib/libunwind.1.dylib' (no such file), '/usr/lib/libunwind.1.dylib' (no such file, not in dyld cache)"
     ]
    }
   ],
   "source": [
    "import gwaslab as gl\n",
    "\n",
    "# Specify the columns:\n",
    "cimt_data_sumstats_female = gl.Sumstats(\n",
    "    cimt_data_female,\n",
    "    snpid=\"VARIANTID\",\n",
    "    # rsid=\"RSID\", # not available\n",
    "    chrom=\"CHR\",\n",
    "    pos=\"POS\",\n",
    "    ea=\"CODEDALLELE\",\n",
    "    nea=\"OTHERALLELE\",\n",
    "    eaf=\"CAF\",\n",
    "    beta=\"BETA_FIXED\",\n",
    "    se=\"SE_FIXED\",\n",
    "    p=\"P_FIXED\",\n",
    "    # direction=\"Direction\",  # only for meta-GWAS\n",
    "    n=\"N_EFF\",\n",
    "    # info=\"Info\", # not available\n",
    "    other=[\n",
    "        \"DF\",\n",
    "        \"DIRECTIONS\",\n",
    "        \"P_COCHRANS_Q\",\n",
    "        \"I_SQUARED\",\n",
    "        \"CAVEAT\",\n",
    "    ],\n",
    "    build=\"19\",\n",
    "    verbose=True,\n",
    ")"
   ]
  },
  {
   "cell_type": "code",
   "execution_count": null,
   "metadata": {},
   "outputs": [],
   "source": [
    "# cimt_data_sumstats.summary()"
   ]
  },
  {
   "cell_type": "code",
   "execution_count": null,
   "metadata": {},
   "outputs": [],
   "source": [
    "# cimt_data_sumstats.lookup_status()"
   ]
  },
  {
   "cell_type": "markdown",
   "metadata": {},
   "source": [
    "#### Intermediate cleaning\n",
    "\n",
    "Here we cleanup the originally loaded data, to clear memory.\n"
   ]
  },
  {
   "cell_type": "code",
   "execution_count": null,
   "metadata": {},
   "outputs": [],
   "source": [
    "# del cimt_data"
   ]
  },
  {
   "cell_type": "code",
   "execution_count": 16,
   "metadata": {},
   "outputs": [],
   "source": [
    "del cimt_data_female"
   ]
  },
  {
   "cell_type": "code",
   "execution_count": 77,
   "metadata": {},
   "outputs": [],
   "source": [
    "del cimt_data_male"
   ]
  },
  {
   "cell_type": "markdown",
   "metadata": {},
   "source": [
    "#### Get reference data\n",
    "\n",
    "We align the data to the reference genome, this will work for most common variants. Before that, we check which reference datasets are available, and get these.\n"
   ]
  },
  {
   "cell_type": "code",
   "execution_count": null,
   "metadata": {},
   "outputs": [],
   "source": [
    "# check references\n",
    "gl.check_available_ref()\n",
    "\n",
    "# {'1kg_eas_hg19': 'https://www.dropbox.com/s/lztaxqhy2o6dpxw/EAS.ALL.split_norm_af.1kgp3v5.hg19.vcf.gz?dl=1',\n",
    "#  '1kg_eas_hg19_md5': 'c8c97434843c0da3113fc06879ead472',\n",
    "#  '1kg_eas_hg19_tbi': 'https://www.dropbox.com/s/k9klefl8m9fcfo1/EAS.ALL.split_norm_af.1kgp3v5.hg19.vcf.gz.tbi?dl=1',\n",
    "#  '1kg_eur_hg19': 'https://www.dropbox.com/s/1nbgqshknevseks/amr.ALL.split_norm_af.1kgp3v5.hg19.vcf.gz?dl=1',\n",
    "#  '1kg_eur_hg19_md5': '734069d895009d38c2f962bfbb6fab52',\n",
    "#  '1kg_eur_hg19_tbi': 'https://www.dropbox.com/s/vscvkrflh6fc5a0/amr.ALL.split_norm_af.1kgp3v5.hg19.vcf.gz.tbi?dl=1',\n",
    "#  '1kg_eas_hg38': 'https://www.dropbox.com/s/3dstbbb1el9r3au/EAS.ALL.split_norm_af.1kg_30x.hg38.vcf.gz?dl=1',\n",
    "#  '1kg_eas_hg38_md5': 'f45e80bca9ef7b29e6b1832e6ac15375',\n",
    "#  '1kg_eas_hg38_tbi': 'https://www.dropbox.com/s/vwnp5vd8dcqksn4/EAS.ALL.split_norm_af.1kg_30x.hg38.vcf.gz.tbi?dl=1',\n",
    "#  '1kg_eur_hg38': 'https://www.dropbox.com/s/z0mkehg17lryapv/amr.ALL.split_norm_af.1kg_30x.hg38.vcf.gz?dl=1',\n",
    "#  '1kg_eur_hg38_md5': '228d3285fa99132cc6321e2925e0768d',\n",
    "#  '1kg_eur_hg38_tbi': 'https://www.dropbox.com/s/ze8g58x75x9qbf0/amr.ALL.split_norm_af.1kg_30x.hg38.vcf.gz.tbi?dl=1',\n",
    "#  '1kg_sas_hg19': 'https://www.dropbox.com/scl/fi/fubqvuj3p4ii4y35zknv8/SAS.ALL.split_norm_af.1kgp3v5.hg19.vcf.gz?rlkey=5z50f66iltjchcaszznq5bczt&dl=1',\n",
    "#  '1kg_sas_hg19_md5': 'e2d3f9e2e6580d05e877e9effd435c4e',\n",
    "#  '1kg_sas_hg19_tbi': 'https://www.dropbox.com/scl/fi/icnmrnzee7ofdpx5l96tg/SAS.ALL.split_norm_af.1kgp3v5.hg19.vcf.gz.tbi?rlkey=st8t88snby26q37rqi6zh5zck&dl=1',\n",
    "#  '1kg_amr_hg19': 'https://www.dropbox.com/scl/fi/bxa4zfngsxsc38rhtiv8c/AMR.ALL.split_norm_af.1kgp3v5.hg19.vcf.gz?rlkey=ibcn8hb1n8n36j3u0jfzci267&dl=1',\n",
    "#  '1kg_amr_hg19_md5': '68d3cdf01cbabdae6e74a07795fa881c',\n",
    "#  '1kg_amr_hg19_tbi': 'https://www.dropbox.com/scl/fi/1zk16x7h4r89jurzwu05u/AMR.ALL.split_norm_af.1kgp3v5.hg19.vcf.gz.tbi?rlkey=b4cere4w38zvzyfitfge3r8n0&dl=1',\n",
    "#  '1kg_sas_hg38': 'https://www.dropbox.com/scl/fi/jr3l5zz42py3kny2bccmj/SAS.ALL.split_norm_af.1kg_30x.hg38.vcf.gz?rlkey=x0t6tsy71jxzf021wfqdn8k5q&dl=1',\n",
    "#  '1kg_sas_hg38_md5': 'e5d79bea1958aa50c23f618d342ccc83',\n",
    "#  '1kg_sas_hg38_tbi': 'https://www.dropbox.com/scl/fi/02oia4ur5r7w9qgiuf6i9/SAS.ALL.split_norm_af.1kg_30x.hg38.vcf.gz.tbi?rlkey=00p9rxe0xzfs6hr1rg4d8oadm&dl=1',\n",
    "#  '1kg_amr_hg38': 'https://www.dropbox.com/scl/fi/4t4tyuhzp78uyb6tgkroq/AMR.ALL.split_norm_af.1kg_30x.hg38.vcf.gz?rlkey=p96gbs1tcdia31jnjv1b82kuz&dl=1',\n",
    "#  '1kg_amr_hg38_md5': '229fbd610001cf6f137b7f738352a44a',\n",
    "#  '1kg_amr_hg38_tbi': 'https://www.dropbox.com/scl/fi/x0dby543tr9xpaqj2i0ba/AMR.ALL.split_norm_af.1kg_30x.hg38.vcf.gz.tbi?rlkey=uj8o7j0cy0spipe174jn54sqs&dl=1',\n",
    "#  '1kg_afr_hg19': https://www.dropbox.com/scl/fi/tq4w9lyt5z47ym7grtrxg/AFR.ALL.split_norm_af.1kgp3v5.hg19.vcf.gz?rlkey=k3bimeu3yr5loq8hohba5mr6k&dl=1,\n",
    "#  '1kg_afr_hg19_md5': 'f7b4425f39e8292dce6f13711e7f6c50',\n",
    "#  '1kg_afr_hg19_tbi': 'https://www.dropbox.com/scl/fi/0giiptu0btwj1kfm6jdzr/AFR.ALL.split_norm_af.1kgp3v5.hg19.vcf.gz.tbi?rlkey=ucb5weprsc5prcg8hvtgmruxx&dl=1',\n",
    "#  '1kg_pan_hg19': 'https://www.dropbox.com/scl/fi/6b4j9z9knmllfnbx86aw6/PAN.ALL.split_norm_af.1kgp3v5.hg19.vcf.gz?rlkey=eento8vg06zyrkvooc9wd4cvu&dl=1',\n",
    "#  '1kg_pan_hg19_md5': 'fed846482204487b60d33b21ddb18106',\n",
    "#  '1kg_pan_hg19_tbi': 'https://www.dropbox.com/scl/fi/stco946scio5tvto0ln4j/PAN.ALL.split_norm_af.1kgp3v5.hg19.vcf.gz.tbi?rlkey=hfh53beb627lmqwv3d8mzqy0c&dl=1',\n",
    "#  '1kg_afr_hg38': 'https://www.dropbox.com/scl/fi/239xmm7qijtnsks97chc9/AFR.ALL.split_norm_af.1kg_30x.hg38.vcf.gz?rlkey=47en5fk1icbekpg7we3uot9g8&dl=1',\n",
    "#  '1kg_afr_hg38_md5': '3bb7923be0809a324d7b7633b8d58a3b',\n",
    "#  '1kg_afr_hg38_tbi': 'https://www.dropbox.com/scl/fi/3y3pg4yqwo2jaaamx1c8f/AFR.ALL.split_norm_af.1kg_30x.hg38.vcf.gz.tbi?rlkey=say0ihfwa51z3otgn4bjtze8p&dl=1',\n",
    "#  '1kg_pan_hg38': 'https://www.dropbox.com/scl/fi/nf01487smtmeq243ihfwm/PAN.ALL.split_norm_af.1kg_30x.hg38.vcf.gz?rlkey=3pefbkzxwcnejx4inynifpft7&dl=1',\n",
    "#  '1kg_pan_hg38_md5': '23bb86d748c4a66e85e087f647e8b60e',\n",
    "#  '1kg_pan_hg38_tbi': 'https://www.dropbox.com/scl/fi/hu7cttr4cenw5yjsm2775/PAN.ALL.split_norm_af.1kg_30x.hg38.vcf.gz.tbi?rlkey=568u7bkvkybm4wt2q9284o198&dl=1',\n",
    "#  'dbsnp_v151_hg19': 'https://ftp.ncbi.nih.gov/snp/organisms/human_9606_b151_GRCh37p13/VCF/00-All.vcf.gz',\n",
    "#  'dbsnp_v151_hg19_tbi': 'https://ftp.ncbi.nih.gov/snp/organisms/human_9606_b151_GRCh37p13/VCF/00-All.vcf.gz.tbi',\n",
    "#  'dbsnp_v151_hg38': 'https://ftp.ncbi.nih.gov/snp/organisms/human_9606_b151_GRCh38p7/VCF/00-All.vcf.gz',\n",
    "#  'dbsnp_v151_hg38_tbi': 'https://ftp.ncbi.nih.gov/snp/organisms/human_9606_b151_GRCh38p7/VCF/00-All.vcf.gz.tbi',\n",
    "#  'dbsnp_v156_hg19': 'https://ftp.ncbi.nih.gov/snp/archive/b156/VCF/GCF_000001405.25.gz',\n",
    "#  'dbsnp_v156_hg19_tbi': 'https://ftp.ncbi.nih.gov/snp/archive/b156/VCF/GCF_000001405.25.gz.tbi',\n",
    "#  'dbsnp_v156_hg38': 'https://ftp.ncbi.nih.gov/snp/archive/b156/VCF/GCF_000001405.40.gz',\n",
    "#  'dbsnp_v156_hg38_tbi': 'https://ftp.ncbi.nih.gov/snp/archive/b156/VCF/GCF_000001405.40.gz.tbi',\n",
    "#  'ucsc_genome_hg19': 'http://hgdownload.cse.ucsc.edu/goldenpath/hg19/bigZips/hg19.fa.gz',\n",
    "#  'ucsc_genome_hg38': 'https://hgdownload.soe.ucsc.edu/goldenPath/hg38/bigZips/hg38.fa.gz',\n",
    "#  '1kg_dbsnp151_hg19_auto': 'https://www.dropbox.com/s/37p2u1xwmux4gwo/1kg_dbsnp151_hg19_auto.txt.gz?dl=1',\n",
    "#  '1kg_dbsnp151_hg19_auto_md5': '7d1e7624fb6e4df7a2f6f05558d436b4',\n",
    "#  '1kg_dbsnp151_hg38_auto': 'https://www.dropbox.com/s/ouf60n7gdz6cm0g/1kg_dbsnp151_hg38_auto.txt.gz?dl=1',\n",
    "#  '1kg_dbsnp151_hg38_auto_md5': '4c7ef2d2415c18c286219e970fdda972',\n",
    "#  'recombination_hg19': 'https://www.dropbox.com/s/wbesl8haxknonuc/recombination_hg19.tar.gz?dl=1',\n",
    "#  'recombination_hg38': 'https://www.dropbox.com/s/vuo8mvqx0fpibzj/recombination_hg38.tar.gz?dl=1',\n",
    "#  'ensembl_hg19_gtf': 'https://ftp.ensembl.org/pub/grch37/current/gtf/homo_sapiens/Homo_sapiens.GRCh37.87.chr.gtf.gz',\n",
    "#  'ensembl_hg38_gtf': 'https://ftp.ensembl.org/pub/release-109/gtf/homo_sapiens//Homo_sapiens.GRCh38.109.chr.gtf.gz',\n",
    "#  'refseq_hg19_gtf': 'https://ftp.ncbi.nlm.nih.gov/refseq/H_sapiens/annotation/GRCh37_latest/refseq_identifiers/GRCh37_latest_genomic.gtf.gz',\n",
    "#  'refseq_hg38_gtf': 'https://ftp.ncbi.nlm.nih.gov/refseq/H_sapiens/annotation/GRCh38_latest/refseq_identifiers/GRCh38_latest_genomic.gtf.gz',\n",
    "#  'testlink': 'https://www.dropbox.com/s/8u7capwge0ihshu/EAS.chr22.split_norm_af.1kgp3v5.vcf.gz?dl=1',\n",
    "#  'testlink_tbi': 'https://www.dropbox.com/s/hdneg53t6u1j6ib/EAS.chr22.split_norm_af.1kgp3v5.vcf.gz.tbi?dl=1'}"
   ]
  },
  {
   "cell_type": "code",
   "execution_count": null,
   "metadata": {},
   "outputs": [],
   "source": [
    "# download ref SNPID-rsID table first\n",
    "# hg19 is the same as GRCh37, which is the same as b37, which is the same as 19\n",
    "# USCSC Genome Browser hg19, SNP information\n",
    "gl.download_ref(\"ucsc_genome_hg19\")\n",
    "# combined 1KG and dbSNP151, hg19, autosomes\n",
    "gl.download_ref(\"1kg_dbsnp151_hg19_auto\")\n",
    "# gl.download_ref(\"refseq_hg19_gtf\") # gene annotation, hg19"
   ]
  },
  {
   "cell_type": "code",
   "execution_count": null,
   "metadata": {},
   "outputs": [],
   "source": [
    "gl.download_ref(\"dbsnp_v156_hg19\")"
   ]
  },
  {
   "cell_type": "code",
   "execution_count": null,
   "metadata": {},
   "outputs": [],
   "source": [
    "gl.download_ref(\"dbsnp_v156_hg19_tbi\")"
   ]
  },
  {
   "cell_type": "code",
   "execution_count": null,
   "metadata": {},
   "outputs": [],
   "source": [
    "# download_ref\n",
    "gl.download_ref(REF_1KG)"
   ]
  },
  {
   "cell_type": "code",
   "execution_count": null,
   "metadata": {},
   "outputs": [],
   "source": [
    "# download_ref(\"recombination_hg19\") - get recombination map for hg19\n",
    "gl.download_ref(\"recombination_hg19\")"
   ]
  },
  {
   "cell_type": "code",
   "execution_count": null,
   "metadata": {},
   "outputs": [],
   "source": [
    "# download_ref(\"ensembl_hg19_gtf\") - get the Ensembl GTF file for hg19\n",
    "gl.download_ref(\"ensembl_hg19_gtf\")"
   ]
  },
  {
   "cell_type": "code",
   "execution_count": null,
   "metadata": {},
   "outputs": [],
   "source": [
    "# download_ref(\"refseq_hg19_gtf\") - get the refseq hg19 gtf file\n",
    "gl.download_ref(\"refseq_hg19_gtf\")"
   ]
  },
  {
   "cell_type": "markdown",
   "metadata": {},
   "source": [
    "### Basic check, harmonization, normalization, quality control, and filtering\n",
    "\n",
    "Here we fix the dataset.\n"
   ]
  },
  {
   "cell_type": "markdown",
   "metadata": {},
   "source": [
    "#### Basic check\n",
    "\n",
    "Here we apply basic check to the data, which makes sure that:\n",
    "\n",
    "- SNPIDs are of the form chr:bp\n",
    "- orders the data\n",
    "- all alleles are capitalized\n",
    "- does sanity checks on data\n",
    "\n",
    "However, no data is filtered, and normalization (to a reference) is also not applied!\n"
   ]
  },
  {
   "cell_type": "code",
   "execution_count": null,
   "metadata": {},
   "outputs": [],
   "source": [
    "# Execute `bacis_check` function - first we just make sure the data has the expected format, columns, and datatypes.\n",
    "# full data\n",
    "# cimt_data_sumstats.basic_check(verbose=True)"
   ]
  },
  {
   "cell_type": "code",
   "execution_count": null,
   "metadata": {},
   "outputs": [],
   "source": [
    "cimt_data_sumstats_female.basic_check(verbose=True)"
   ]
  },
  {
   "cell_type": "code",
   "execution_count": null,
   "metadata": {},
   "outputs": [],
   "source": [
    "cimt_data_sumstats_male.basic_check(verbose=True)"
   ]
  },
  {
   "cell_type": "code",
   "execution_count": null,
   "metadata": {},
   "outputs": [],
   "source": [
    "# check the form of the data as it is AFTER `basic_check` function\n",
    "# full data\n",
    "# cimt_data_sumstats.data"
   ]
  },
  {
   "cell_type": "code",
   "execution_count": null,
   "metadata": {},
   "outputs": [],
   "source": [
    "# cimt_data_sumstats.summary()"
   ]
  },
  {
   "cell_type": "code",
   "execution_count": null,
   "metadata": {},
   "outputs": [],
   "source": [
    "# cimt_data_sumstats.lookup_status()"
   ]
  },
  {
   "cell_type": "markdown",
   "metadata": {},
   "source": [
    "#### Remove duplicate and multi-allelic variants\n",
    "\n",
    "Here we remove duplicate and multi-allelic variants, and keep the variants with the lowest P-value for association.\n"
   ]
  },
  {
   "cell_type": "code",
   "execution_count": null,
   "metadata": {},
   "outputs": [],
   "source": [
    "# removing multiallelic and duplicate variants\n",
    "# mode=d ,remove duplicate.\n",
    "#     remove duplicate SNPs based on 1. SNPID,\n",
    "#     remove duplicate SNPs based on 2. CHR, POS, EA, and NEA\n",
    "#     remove duplicate SNPs based on 3. rsID\n",
    "# mode=m, remove multiallelic variants.\n",
    "#     remove multiallelic SNPs based on 4. CHR, POS\n",
    "# remove=True : remove NAs\n",
    "# keep_col : use which column to sort the values (keep_ascend=True: ascending order)\n",
    "# keep: keep 'first' or 'last'.\n",
    "\n",
    "# gwas_combo_sumstats_sample.remove_dup(\n",
    "#     mode=\"md\",  # remove multi-allelic and duplicate variants\n",
    "#     remove=True,  # remove NAs\n",
    "#     keep_col=\"P\",\n",
    "#     keep_ascend=True,\n",
    "#     keep=\"first\",  # keep the first variant, with the lowest p-value (sorted by that column)\n",
    "# )"
   ]
  },
  {
   "cell_type": "code",
   "execution_count": null,
   "metadata": {},
   "outputs": [],
   "source": [
    "# # full dataset\n",
    "# cimt_data_sumstats.remove_dup(\n",
    "#     mode=\"md\",  # remove multi-allelic and duplicate variants\n",
    "#     remove=False,  # remove NAs\n",
    "#     keep_col=\"P\",\n",
    "#     keep_ascend=True,\n",
    "#     # keep the first variant, with the lowest p-value (sorted by that column)\n",
    "#     keep=\"first\",\n",
    "# )"
   ]
  },
  {
   "cell_type": "code",
   "execution_count": null,
   "metadata": {},
   "outputs": [],
   "source": [
    "# full dataset\n",
    "cimt_data_sumstats_female.remove_dup(\n",
    "    mode=\"md\",  # remove multi-allelic and duplicate variants\n",
    "    remove=False,  # remove NAs\n",
    "    keep_col=\"P\",\n",
    "    keep_ascend=True,\n",
    "    # keep the first variant, with the lowest p-value (sorted by that column)\n",
    "    keep=\"first\",\n",
    ")"
   ]
  },
  {
   "cell_type": "code",
   "execution_count": null,
   "metadata": {},
   "outputs": [],
   "source": [
    "# full dataset\n",
    "cimt_data_sumstats_male.remove_dup(\n",
    "    mode=\"md\",  # remove multi-allelic and duplicate variants\n",
    "    remove=False,  # remove NAs\n",
    "    keep_col=\"P\",\n",
    "    keep_ascend=True,\n",
    "    # keep the first variant, with the lowest p-value (sorted by that column)\n",
    "    keep=\"first\",\n",
    ")"
   ]
  },
  {
   "cell_type": "markdown",
   "metadata": {},
   "source": [
    "#### Harmonization\n",
    "\n",
    "Here we harmonize the data with the reference:\n",
    "\n",
    "- we make sure alleles are oriented according to the reference\n",
    "- we assign rsIDs\n",
    "- we flip alleles (and effect sizes), when necessary\n"
   ]
  },
  {
   "cell_type": "markdown",
   "metadata": {},
   "source": [
    "##### Align NEA with REF in the reference genome\n",
    "\n",
    "We check if the non-effect allele is aligned with the reference sequence (`hg19`). The status code will be changed accordingly.\n"
   ]
  },
  {
   "cell_type": "code",
   "execution_count": null,
   "metadata": {},
   "outputs": [],
   "source": [
    "# # .check_ref(): Check if NEA is aligned with the reference sequence. After checking, the tracking status code will be changed accordingly.\n",
    "\n",
    "# # full dataset\n",
    "# cimt_data_sumstats.check_ref(\n",
    "#     ref_path=gl.get_path(\"ucsc_genome_hg19\"),\n",
    "#     #   chr_dict=gl.get_number_to_NC(build=\"19\")\n",
    "# )"
   ]
  },
  {
   "cell_type": "code",
   "execution_count": null,
   "metadata": {},
   "outputs": [],
   "source": [
    "# .check_ref(): Check if NEA is aligned with the reference sequence. After checking, the tracking status code will be changed accordingly.\n",
    "\n",
    "# full dataset\n",
    "cimt_data_sumstats_female.check_ref(\n",
    "    ref_seq=gl.get_path(\"ucsc_genome_hg19\"),\n",
    "    #   chr_dict=gl.get_number_to_NC(build=\"19\")\n",
    ")"
   ]
  },
  {
   "cell_type": "code",
   "execution_count": null,
   "metadata": {},
   "outputs": [],
   "source": [
    "# .check_ref(): Check if NEA is aligned with the reference sequence. After checking, the tracking status code will be changed accordingly.\n",
    "\n",
    "# full dataset\n",
    "cimt_data_sumstats_male.check_ref(\n",
    "    ref_seq=gl.get_path(\"ucsc_genome_hg19\"),\n",
    "    #   chr_dict=gl.get_number_to_NC(build=\"19\")\n",
    ")"
   ]
  },
  {
   "cell_type": "code",
   "execution_count": null,
   "metadata": {},
   "outputs": [],
   "source": [
    "# we make sure to flipp the alleles based on the status code\n",
    "\n",
    "# full dataset\n",
    "# cimt_data_sumstats.flip_allele_stats()"
   ]
  },
  {
   "cell_type": "code",
   "execution_count": null,
   "metadata": {},
   "outputs": [],
   "source": [
    "# we make sure to flipp the alleles based on the status code\n",
    "\n",
    "# full dataset\n",
    "cimt_data_sumstats_female.flip_allele_stats()"
   ]
  },
  {
   "cell_type": "code",
   "execution_count": null,
   "metadata": {},
   "outputs": [],
   "source": [
    "# we make sure to flipp the alleles based on the status code\n",
    "\n",
    "# full dataset\n",
    "cimt_data_sumstats_male.flip_allele_stats()"
   ]
  },
  {
   "cell_type": "code",
   "execution_count": null,
   "metadata": {},
   "outputs": [],
   "source": [
    "# cimt_data_sumstats.lookup_status()"
   ]
  },
  {
   "cell_type": "markdown",
   "metadata": {},
   "source": [
    "##### Check palindromic SNPs or indistinguishable Indels\n",
    "\n",
    "Here we check for palindromic variants and indistinguishable INDELs and remove these.\n"
   ]
  },
  {
   "cell_type": "code",
   "execution_count": null,
   "metadata": {},
   "outputs": [],
   "source": [
    "# .infer_strand() - skipped as this is done\n",
    "# ref_infer= gl.get_path(\"1kg_AFR_hg19\"), # reference vcf file\n",
    "# ref_alt_freq=None,\n",
    "# maf_threshold=0.40, # maf threshold for strand inference\n",
    "# remove_snp=\"\", # remove snps from the data\n",
    "# mode=\"pi\",\n",
    "# n_cores=1,\n",
    "# remove_indel=\"\"\n",
    "\n",
    "# first we check the strand of the data and assign the status code\n",
    "# gwas_combo_sumstats_sample.infer_strand(ref_infer=gl.get_path(\"1kg_AFR_hg19\"), n_cores=6)\n",
    "\n",
    "# full data\n",
    "# gwas_combo_sumstats.infer_strand(ref_infer = gl.get_path(\"1kg_AFR_hg19\"),\n",
    "#                                        n_cores=6)\n",
    "# then we flip the alleles according to the status code\n",
    "# gwas_combo_sumstats_sample.flip_allele_stats()"
   ]
  },
  {
   "cell_type": "code",
   "execution_count": null,
   "metadata": {},
   "outputs": [],
   "source": [
    "# cimt_data_sumstats.infer_strand(ref_infer=gl.get_path(REF_1KG), n_cores=8)"
   ]
  },
  {
   "cell_type": "code",
   "execution_count": null,
   "metadata": {},
   "outputs": [],
   "source": [
    "cimt_data_sumstats_female.infer_strand(ref_infer=\"/Users/esmulde2/.gwaslab/AFR.ALL.split_norm_af.1kgp3v5.hg19.vcf.gz\", n_cores=8)\n"
   ]
  },
  {
   "cell_type": "code",
   "execution_count": null,
   "metadata": {},
   "outputs": [],
   "source": [
    "cimt_data_sumstats_male.infer_strand(ref_infer=\"/Users/esmulde2/.gwaslab/AFR.ALL.split_norm_af.1kgp3v5.hg19.vcf.gz\", n_cores=8)\n"
   ]
  },
  {
   "cell_type": "code",
   "execution_count": null,
   "metadata": {},
   "outputs": [],
   "source": [
    "# cimt_data_sumstats.flip_allele_stats()"
   ]
  },
  {
   "cell_type": "code",
   "execution_count": null,
   "metadata": {},
   "outputs": [],
   "source": [
    "# we make sure to flipp the alleles based on the status code\n",
    "\n",
    "# full dataset\n",
    "cimt_data_sumstats_female.flip_allele_stats()"
   ]
  },
  {
   "cell_type": "code",
   "execution_count": null,
   "metadata": {},
   "outputs": [],
   "source": [
    "# we make sure to flipp the alleles based on the status code\n",
    "\n",
    "# full dataset\n",
    "cimt_data_sumstats_male.flip_allele_stats()"
   ]
  },
  {
   "cell_type": "markdown",
   "metadata": {},
   "source": [
    "##### Assign rsID to the data\n",
    "\n",
    "For the sample dataset this will take not much time. For a dataset with 8M variants it will take about 50-60 minutes! We should fix the SNPIDs such that it includes the alleles. This way the assigning of rsID will go smoothly.\n"
   ]
  },
  {
   "cell_type": "code",
   "execution_count": null,
   "metadata": {},
   "outputs": [],
   "source": [
    "cimt_data_sumstats_sample = cimt_data_sumstats_female.random_variants(n=200000)"
   ]
  },
  {
   "cell_type": "code",
   "execution_count": null,
   "metadata": {},
   "outputs": [],
   "source": [
    "# rsID annotation based on chr, pos, ref, alt using a VCF file when the SNPID is of the form chr:pos.\n",
    "# .assign_rsid() options\tDataType\tDescription\tDefault\n",
    "# ref_rsid_tsv\tstring\ttsv file path for annotation of commonly used variants using SNPID (like 1:725932:G:A) as key.\t-\n",
    "# ref_rsid_vcf\tstring\tvcf file path for annotation of other variants. .tbi file is also needed.\t-\n",
    "# chr_dict\tdict\ta dictionary for converting 1-25 to CHR in the vcf files.\n",
    "# For example, the notation in dbSNP vcf file is based on RefSeq (like NC_000001.10).\n",
    "# gwaslab provides built-in conversion dictionaries.\n",
    "# gl.get_number_to_NC(build=\"19\")\n",
    "# n_cores\tint\tnumber of cores to use.\n",
    "\n",
    "# cimt_data_sumstats_sample.assign_rsid(\n",
    "#     n_cores=4,\n",
    "#     # ref_rsid_tsv = gl.get_path(\"1kg_dbsnp151_hg19_auto\"),\n",
    "#     ref_rsid_vcf=\"/Volumes/MacExtern/UMC/Werk/GCF_000001405.25.gz\",  # this works when SNPID is in the format chr:pos\n",
    "#     chr_dict=gl.get_number_to_NC(\n",
    "#         build=\"19\"\n",
    "#     ),  # this is needed as in the VCF file, the chromosome is in NC format\n",
    "# )"
   ]
  },
  {
   "cell_type": "code",
   "execution_count": null,
   "metadata": {},
   "outputs": [],
   "source": [
    "cimt_data_sumstats_female.assign_rsid(\n",
    "    n_cores=4,\n",
    "    # ref_rsid_tsv = gl.get_path(\"1kg_dbsnp151_hg19_auto\"),\n",
    "    ref_rsid_vcf=\"/Volumes/MacExtern/UMC/Werk/GCF_000001405.25.gz\",  # this works when SNPID is in the format chr:pos\n",
    "    chr_dict=gl.get_number_to_NC(\n",
    "        build=\"19\"\n",
    "    ),  # this is needed as in the VCF file, the chromosome is in NC format\n",
    ")"
   ]
  },
  {
   "cell_type": "code",
   "execution_count": null,
   "metadata": {},
   "outputs": [],
   "source": [
    "cimt_data_sumstats_male.assign_rsid(\n",
    "    n_cores=4,\n",
    "    # ref_rsid_tsv = gl.get_path(\"1kg_dbsnp151_hg19_auto\"),\n",
    "    ref_rsid_vcf=\"/Volumes/MacExtern/UMC/Werk/GCF_000001405.25.gz\",  # this works when SNPID is in the format chr:pos\n",
    "    chr_dict=gl.get_number_to_NC(\n",
    "        build=\"19\"\n",
    "    ),  # this is needed as in the VCF file, the chromosome is in NC format\n",
    ")"
   ]
  },
  {
   "cell_type": "code",
   "execution_count": null,
   "metadata": {},
   "outputs": [],
   "source": [
    "# cimt_data_sumstats.fix_id(\n",
    "#     fixid=True,\n",
    "#     forcefixid=True,\n",
    "# )"
   ]
  },
  {
   "cell_type": "code",
   "execution_count": null,
   "metadata": {},
   "outputs": [],
   "source": [
    "cimt_data_sumstats_female.fix_id(\n",
    "    fixid=True,\n",
    "    forcefixid=True,\n",
    "    overwrite=True,\n",
    ")"
   ]
  },
  {
   "cell_type": "code",
   "execution_count": null,
   "metadata": {},
   "outputs": [],
   "source": [
    "cimt_data_sumstats_male.fix_id(\n",
    "    fixid=True,\n",
    "    forcefixid=True,\n",
    "    overwrite=True,\n",
    ")"
   ]
  },
  {
   "cell_type": "code",
   "execution_count": null,
   "metadata": {},
   "outputs": [],
   "source": [
    "cimt_data_sumstats_female.data"
   ]
  },
  {
   "cell_type": "code",
   "execution_count": null,
   "metadata": {},
   "outputs": [],
   "source": [
    "cimt_data_sumstats_sample.data"
   ]
  },
  {
   "cell_type": "code",
   "execution_count": null,
   "metadata": {},
   "outputs": [],
   "source": [
    "cimt_data_sumstats_sample.fix_id(\n",
    "    fixid=True,\n",
    "    forcefixid=True,\n",
    "    overwrite=True,\n",
    ")"
   ]
  },
  {
   "cell_type": "code",
   "execution_count": null,
   "metadata": {},
   "outputs": [],
   "source": [
    "# cimt_data_sumstats.assign_rsid(\n",
    "#     n_cores=8,\n",
    "#     # this works for common variants\n",
    "#     ref_rsid_tsv=gl.get_path(\"1kg_dbsnp151_hg19_auto\"),\n",
    "#     # ref_rsid_vcf=gl.get_path(\"dbsnp_v156_hg19\"),\n",
    "#     chr_dict=gl.get_number_to_NC(\n",
    "#         build=\"19\"\n",
    "#     ),  # this is needed as in the VCF file, the chromosome is in NC format\n",
    "# )"
   ]
  },
  {
   "cell_type": "code",
   "execution_count": null,
   "metadata": {},
   "outputs": [],
   "source": [
    "# cimt_data_sumstats_female.assign_rsid(\n",
    "#     n_cores=8,\n",
    "#     # this works for common variants\n",
    "#     ref_rsid_tsv=gl.get_path(\"1kg_dbsnp151_hg19_auto\"),\n",
    "#     # ref_rsid_vcf=gl.get_path(\"dbsnp_v156_hg19\"),\n",
    "#     chr_dict=gl.get_number_to_NC(\n",
    "#         build=\"19\"\n",
    "#     ),  # this is needed as in the VCF file, the chromosome is in NC format\n",
    "# )"
   ]
  },
  {
   "cell_type": "code",
   "execution_count": null,
   "metadata": {},
   "outputs": [],
   "source": [
    "# cimt_data_sumstats_male.assign_rsid(\n",
    "#     n_cores=8,\n",
    "#     # this works for common variants\n",
    "#     ref_rsid_tsv=gl.get_path(\"1kg_dbsnp151_hg19_auto\"),\n",
    "#     # ref_rsid_vcf=gl.get_path(\"dbsnp_v156_hg19\"),\n",
    "#     chr_dict=gl.get_number_to_NC(\n",
    "#         build=\"19\"\n",
    "#     ),  # this is needed as in the VCF file, the chromosome is in NC format\n",
    "# )"
   ]
  },
  {
   "cell_type": "code",
   "execution_count": null,
   "metadata": {},
   "outputs": [],
   "source": [
    "cimt_data_sumstats_female.summary()"
   ]
  },
  {
   "cell_type": "code",
   "execution_count": null,
   "metadata": {},
   "outputs": [],
   "source": [
    "cimt_data_sumstats_female.lookup_status()"
   ]
  },
  {
   "cell_type": "markdown",
   "metadata": {},
   "source": [
    "##### Plot frequencies of data against the reference\n",
    "\n",
    "We would like to plot the frequency of the GWAS data compared to the reference data. We do this on a random subset of the data (n=200,000) as this is more efficient and should be representative of the full datasets.\n"
   ]
  },
  {
   "cell_type": "code",
   "execution_count": null,
   "metadata": {},
   "outputs": [],
   "source": [
    "# cimt_data_sumstats_sample = cimt_data_sumstats.random_variants(n=200000)"
   ]
  },
  {
   "cell_type": "code",
   "execution_count": null,
   "metadata": {},
   "outputs": [],
   "source": [
    "# cimt_data_sumstats_sample.check_af(\n",
    "#      ref_infer=gl.get_path(REF_1KG),\n",
    "#     ref_alt_freq=\"AF\",\n",
    "#     n_cores=8,\n",
    "# )"
   ]
  },
  {
   "cell_type": "code",
   "execution_count": null,
   "metadata": {},
   "outputs": [],
   "source": [
    "# cimt_data_sumstats.check_af(\n",
    "#     ref_infer=gl.get_path(REF_1KG),\n",
    "#     ref_alt_freq=\"AF\",\n",
    "#     n_cores=8,\n",
    "# )"
   ]
  },
  {
   "cell_type": "code",
   "execution_count": null,
   "metadata": {},
   "outputs": [],
   "source": [
    "cimt_data_sumstats_female.check_af(\n",
    "    ref_infer=\"/Users/esmulde2/.gwaslab/AFR.ALL.split_norm_af.1kgp3v5.hg19.vcf.gz\",\n",
    "    ref_alt_freq=\"AF\",\n",
    "    n_cores=8,\n",
    ")"
   ]
  },
  {
   "cell_type": "code",
   "execution_count": null,
   "metadata": {},
   "outputs": [],
   "source": [
    "cimt_data_sumstats_male.check_af(\n",
    "    ref_infer=\"/Users/esmulde2/.gwaslab/AFR.ALL.split_norm_af.1kgp3v5.hg19.vcf.gz\",\n",
    "    ref_alt_freq=\"AF\",\n",
    "    n_cores=8,\n",
    ")"
   ]
  },
  {
   "cell_type": "code",
   "execution_count": null,
   "metadata": {},
   "outputs": [],
   "source": [
    "# cimt_data_sumstats_sample.plot_daf(threshold=0.12)"
   ]
  },
  {
   "cell_type": "code",
   "execution_count": null,
   "metadata": {},
   "outputs": [],
   "source": [
    "# cimt_data_sumstats.plot_daf(threshold=0.12)"
   ]
  },
  {
   "cell_type": "code",
   "execution_count": null,
   "metadata": {},
   "outputs": [],
   "source": [
    "cimt_data_sumstats_female.plot_daf(threshold=0.12)"
   ]
  },
  {
   "cell_type": "code",
   "execution_count": null,
   "metadata": {},
   "outputs": [],
   "source": [
    "cimt_data_sumstats_male.plot_daf(threshold=0.12)"
   ]
  },
  {
   "cell_type": "code",
   "execution_count": null,
   "metadata": {},
   "outputs": [],
   "source": [
    "# del cimt_data_sumstats_sample"
   ]
  },
  {
   "cell_type": "markdown",
   "metadata": {},
   "source": [
    "##### Summary\n",
    "\n",
    "So in summary we have done:\n",
    "\n",
    "- a basic check, making sure the chr, pos, alleles are all in order\n",
    "- multi-allelic, weird chromosomes, and duplicate variants are removed\n",
    "- data are harmonized, such that the rsID is added, the alleles are relative to the references (and flipped if needed)\n",
    "\n",
    "> Note, while we do calculate the difference in allele frequencies between the datasets and the reference, we **do not** filter on this for the purpose of sharing through _GWAS Catalog_.\n"
   ]
  },
  {
   "cell_type": "code",
   "execution_count": null,
   "metadata": {},
   "outputs": [],
   "source": [
    "# print(\"The parsed and harmonized SumStats object:\\n\")\n",
    "\n",
    "# cimt_data_sumstats.data"
   ]
  },
  {
   "cell_type": "code",
   "execution_count": null,
   "metadata": {},
   "outputs": [],
   "source": [
    "# cimt_data_sumstats.data[\"CAVEAT\"].unique()"
   ]
  },
  {
   "cell_type": "code",
   "execution_count": null,
   "metadata": {},
   "outputs": [],
   "source": [
    "cimt_data_sumstats_female.data[\"CAVEAT\"].unique()"
   ]
  },
  {
   "cell_type": "code",
   "execution_count": null,
   "metadata": {},
   "outputs": [],
   "source": [
    "cimt_data_sumstats_male.data[\"CAVEAT\"].unique()"
   ]
  },
  {
   "cell_type": "code",
   "execution_count": null,
   "metadata": {},
   "outputs": [],
   "source": [
    "# temp.to_csv(\n",
    "#     os.path.join(\n",
    "#         GWASCatalog_loc + \"/META_\" + PHENOTYPE + \"_\" + SEX + \"_\" + POPULATION + \".counts_caveats.csv\",\n",
    "#     )\n",
    "# )"
   ]
  },
  {
   "cell_type": "code",
   "execution_count": 33,
   "metadata": {},
   "outputs": [],
   "source": [
    "temp = cimt_data_sumstats_female.data[\"CAVEAT\"].value_counts()\n",
    "\n",
    "temp.to_csv(\n",
    "    os.path.join(\n",
    "        GWASCatalog_loc + \"/META_\" + PHENOTYPE + \"_\" + SEX1 + \"_\" + POPULATION + \".counts_caveats.csv\",\n",
    "    )\n",
    ")"
   ]
  },
  {
   "cell_type": "code",
   "execution_count": 47,
   "metadata": {},
   "outputs": [],
   "source": [
    "temp = cimt_data_sumstats_male.data[\"CAVEAT\"].value_counts()\n",
    "\n",
    "temp.to_csv(\n",
    "    os.path.join(\n",
    "        GWASCatalog_loc + \"/META_\" + PHENOTYPE + \"_\" + SEX2 + \"_\" + POPULATION + \".counts_caveats.csv\",\n",
    "    )\n",
    ")"
   ]
  },
  {
   "attachments": {},
   "cell_type": "markdown",
   "metadata": {},
   "source": [
    "### Save or open data\n",
    "\n",
    "Let's save (or open) the summary statistics object for future reference.\n"
   ]
  },
  {
   "cell_type": "code",
   "execution_count": null,
   "metadata": {},
   "outputs": [],
   "source": [
    "# import gwaslab as gl\n",
    "\n",
    "# gl.dump_pickle(\n",
    "#     cimt_data_sumstats,\n",
    "#     os.path.join(\n",
    "#         GWASCatalog_loc + \"/META_\" + PHENOTYPE + \"_\" + SEX + \"_\" + POPULATION + \".gwaslab.pkl\",\n",
    "#     ),\n",
    "#     overwrite=True,\n",
    "# )"
   ]
  },
  {
   "cell_type": "code",
   "execution_count": null,
   "metadata": {},
   "outputs": [],
   "source": [
    "import gwaslab as gl\n",
    "\n",
    "gl.dump_pickle(\n",
    "    cimt_data_sumstats_female,\n",
    "    os.path.join(\n",
    "        GWASCatalog_loc + \"/META_\" + PHENOTYPE + \"_\" + SEX1 + \"_\" + POPULATION + \".b37.gwaslab.pkl\",\n",
    "    ),\n",
    "    overwrite=True,\n",
    ")"
   ]
  },
  {
   "cell_type": "code",
   "execution_count": null,
   "metadata": {},
   "outputs": [],
   "source": [
    "import gwaslab as gl\n",
    "\n",
    "gl.dump_pickle(\n",
    "    cimt_data_sumstats_male,\n",
    "    os.path.join(\n",
    "        GWASCatalog_loc + \"/META_\" + PHENOTYPE + \"_\" + SEX2 + \"_\" + POPULATION + \".b37.gwaslab.pkl\",\n",
    "    ),\n",
    "    overwrite=True,\n",
    ")"
   ]
  },
  {
   "cell_type": "code",
   "execution_count": null,
   "metadata": {},
   "outputs": [],
   "source": [
    "# for future reference to open the pickle file\n",
    "# cimt_data_sumstats = gl.load_pickle(\n",
    "#     os.path.join(\n",
    "#         GWASCatalog_loc + \"/META_\" + PHENOTYPE + \"_\" + POPULATION + \"_\" + SEX + \".gwaslab.pkl\")\n",
    "# )"
   ]
  },
  {
   "cell_type": "code",
   "execution_count": null,
   "metadata": {},
   "outputs": [],
   "source": [
    "# import gwaslab as gl\n",
    "\n",
    "# cimt_data_sumstats.log.show()\n",
    "\n",
    "# cimt_data_sumstats.log.save(\n",
    "#     os.path.join(\n",
    "#         GWASCatalog_loc + \"/META_\" + PHENOTYPE + \"_\" + SEX + \"_\" + POPULATION + \".b37.gwaslab.log\",\n",
    "#     )\n",
    "# )"
   ]
  },
  {
   "cell_type": "code",
   "execution_count": null,
   "metadata": {},
   "outputs": [],
   "source": [
    "import gwaslab as gl\n",
    "\n",
    "cimt_data_sumstats_female.log.show()\n",
    "\n",
    "cimt_data_sumstats_female.log.save(\n",
    "    os.path.join(\n",
    "        GWASCatalog_loc + \"/META_\" + PHENOTYPE + \"_\" + SEX1 + \"_\" + POPULATION + \".b37.gwaslab.log\",\n",
    "    )\n",
    ")"
   ]
  },
  {
   "cell_type": "code",
   "execution_count": null,
   "metadata": {},
   "outputs": [],
   "source": [
    "import gwaslab as gl\n",
    "\n",
    "cimt_data_sumstats_male.log.show()\n",
    "\n",
    "cimt_data_sumstats_male.log.save(\n",
    "    os.path.join(\n",
    "        GWASCatalog_loc + \"/META_\" + PHENOTYPE + \"_\" + SEX2 + \"_\" + POPULATION + \".b37.gwaslab.log\",\n",
    "    )\n",
    ")"
   ]
  },
  {
   "cell_type": "markdown",
   "metadata": {},
   "source": [
    "LOAD PICKLE FILES\n"
   ]
  },
  {
   "cell_type": "code",
   "execution_count": null,
   "metadata": {},
   "outputs": [],
   "source": [
    "cimt_data_sumstats_female = gl.load_pickle(\n",
    "    os.path.join(\n",
    "        GWASCatalog_loc + \"/META_\" + PHENOTYPE + \"_\" + SEX1 + \"_\" + POPULATION + \".b37.gwaslab.pkl\",\n",
    "    )\n",
    ")"
   ]
  },
  {
   "cell_type": "code",
   "execution_count": null,
   "metadata": {},
   "outputs": [],
   "source": [
    "cimt_data_sumstats_male = gl.load_pickle(\n",
    "    os.path.join(\n",
    "        GWASCatalog_loc + \"/META_\" + PHENOTYPE + \"_\" + SEX2 + \"_\" + POPULATION + \".b37.gwaslab.pkl\",\n",
    "    )\n",
    ")"
   ]
  },
  {
   "cell_type": "code",
   "execution_count": null,
   "metadata": {},
   "outputs": [],
   "source": [
    "cimt_data_sumstats_qc_female = gl.load_pickle(\n",
    "    os.path.join(\n",
    "        GWASCatalog_loc + \"/META_\" + PHENOTYPE + \"_\" + SEX1 + \"_\" + POPULATION + \".b37.gwaslab.qc.pkl\",\n",
    "    )\n",
    ")"
   ]
  },
  {
   "cell_type": "code",
   "execution_count": null,
   "metadata": {},
   "outputs": [],
   "source": [
    "cimt_data_sumstats_qc_male = gl.load_pickle(\n",
    "    os.path.join(\n",
    "        GWASCatalog_loc + \"/META_\" + PHENOTYPE + \"_\" + SEX2 + \"_\" + POPULATION + \".b37.gwaslab.qc.pkl\",\n",
    "    )\n",
    ")"
   ]
  },
  {
   "cell_type": "markdown",
   "metadata": {},
   "source": [
    "##### Parquet\n",
    "\n",
    "Save it as a parquet for easy loading as a dataframe in other programs (_e.g._ `R`).\n"
   ]
  },
  {
   "cell_type": "code",
   "execution_count": null,
   "metadata": {},
   "outputs": [],
   "source": [
    "import pyarrow as pa\n",
    "import pyarrow.parquet as pq\n",
    "\n",
    "# Convert DataFrame to Apache Arrow Table\n",
    "temp_table = pa.Table.from_pandas(cimt_data_sumstats.data)\n",
    "\n",
    "# Parquet with Brotli compression\n",
    "pq.write_table(\n",
    "    temp_table,\n",
    "    os.path.join(\n",
    "        GWASCatalog_loc + \"/META_\" + PHENOTYPE + \"_\" + SEX + \"_\" + POPULATION + \".b37.gwaslab.parquet\",\n",
    "    ),\n",
    "    compression=\"BROTLI\",\n",
    ")\n",
    "# we delete the temporary table object\n",
    "del temp_table"
   ]
  },
  {
   "cell_type": "markdown",
   "metadata": {},
   "source": [
    "##### GWAS Catalog\n",
    "\n",
    "Save it in `GWAS catalog`-format\n"
   ]
  },
  {
   "cell_type": "code",
   "execution_count": null,
   "metadata": {},
   "outputs": [],
   "source": [
    "# cimt_datasumstats.to_format(\n",
    "#     os.path.join(GWASCatalog_loc + \"/META_\" + PHENOTYPE + \"_\" + SEX + \"_\" + POPULATION + \".b37.gwaslab\"),\n",
    "#     fmt=\"ssf\",\n",
    "#     build=\"19\",\n",
    "# )"
   ]
  },
  {
   "cell_type": "code",
   "execution_count": null,
   "metadata": {},
   "outputs": [],
   "source": [
    "cimt_data_sumstats_female.to_format(\n",
    "    os.path.join(GWASCatalog_loc + \"/META_\" + PHENOTYPE + \"_\" + SEX1 + \"_\" + POPULATION + \".b37.gwaslab\"),\n",
    "    fmt=\"ssf\",\n",
    "    build=\"19\",\n",
    ")"
   ]
  },
  {
   "cell_type": "code",
   "execution_count": null,
   "metadata": {},
   "outputs": [],
   "source": [
    "cimt_data_sumstats_male.to_format(\n",
    "    os.path.join(GWASCatalog_loc + \"/META_\" + PHENOTYPE + \"_\" + SEX2 + \"_\" + POPULATION + \".b37.gwaslab\"),\n",
    "    fmt=\"ssf\",\n",
    "    build=\"19\",\n",
    ")"
   ]
  },
  {
   "cell_type": "markdown",
   "metadata": {},
   "source": [
    "After this, we need to validate results for `GWAS Catalog`. For this purpose we created an environment based on python 3.9 and used `gwas-sumstats-tools` (https://github.com/EBISPOT/gwas-sumstats-tools). We remove any remaining variant with alleles formatted such that is unacceptable for `GWAS Catalog`.\n"
   ]
  },
  {
   "cell_type": "markdown",
   "metadata": {},
   "source": [
    "### FUMA\n"
   ]
  },
  {
   "cell_type": "code",
   "execution_count": null,
   "metadata": {},
   "outputs": [],
   "source": [
    "cimt_data_sumstats_female.to_format(\n",
    "    os.path.join(GWASCatalog_loc + \"/META_\" + PHENOTYPE + \"_\" + SEX1 + \"_\" + POPULATION + \".b37.gwaslab\"),\n",
    "    fmt=\"fuma\",\n",
    "    build=\"19\",\n",
    ")"
   ]
  },
  {
   "cell_type": "code",
   "execution_count": null,
   "metadata": {},
   "outputs": [],
   "source": [
    "cimt_data_sumstats_male.to_format(\n",
    "    os.path.join(GWASCatalog_loc + \"/META_\" + PHENOTYPE + \"_\" + SEX2 + \"_\" + POPULATION + \".b37.gwaslab\"),\n",
    "    fmt=\"fuma\",\n",
    "    build=\"19\",\n",
    ")"
   ]
  },
  {
   "attachments": {},
   "cell_type": "markdown",
   "metadata": {},
   "source": [
    "### Filtering\n"
   ]
  },
  {
   "cell_type": "markdown",
   "metadata": {},
   "source": [
    "Let's filter based on the following:\n",
    "\n",
    "- CAVEAT == None\n"
   ]
  },
  {
   "cell_type": "code",
   "execution_count": null,
   "metadata": {},
   "outputs": [],
   "source": [
    "# cimt_data_sumstats.data.dtypes"
   ]
  },
  {
   "cell_type": "code",
   "execution_count": null,
   "metadata": {},
   "outputs": [],
   "source": [
    "# cimt_data_sumstats_qc = cimt_data_sumstats.filter_value(\n",
    "#     '(EAF>=0.01 & EAF<0.99 & DF>=1) | CAVEAT==None'\n",
    "# )\n",
    "\n",
    "# #cimt_data_sumstats_qc = cimt_data_sumstats.filter_value('CAVEAT== None')"
   ]
  },
  {
   "cell_type": "code",
   "execution_count": null,
   "metadata": {},
   "outputs": [],
   "source": [
    "cimt_data_sumstats_qc_female = cimt_data_sumstats_female.filter_value(\n",
    "    '(EAF>=0.01 & EAF<0.99 & DF>=1) | CAVEAT==None'\n",
    ")\n",
    "\n",
    "#cimt_data_sumstats_qc = cimt_data_sumstats.filter_value('CAVEAT== None')"
   ]
  },
  {
   "cell_type": "code",
   "execution_count": null,
   "metadata": {},
   "outputs": [],
   "source": [
    "cimt_data_sumstats_qc_male = cimt_data_sumstats_male.filter_value(\n",
    "    '(EAF>=0.01 & EAF<0.99 & DF>=1) | CAVEAT==None'\n",
    ")\n",
    "\n",
    "#cimt_data_sumstats_qc = cimt_data_sumstats.filter_value('CAVEAT== None')"
   ]
  },
  {
   "cell_type": "code",
   "execution_count": null,
   "metadata": {},
   "outputs": [],
   "source": [
    "# cimt_data_sumstats_qc_male.data"
   ]
  },
  {
   "cell_type": "code",
   "execution_count": null,
   "metadata": {},
   "outputs": [],
   "source": [
    "# cimt_data_sumstats_qc_male.summary()"
   ]
  },
  {
   "cell_type": "code",
   "execution_count": null,
   "metadata": {},
   "outputs": [],
   "source": [
    "# cimt_data_sumstats_qc_male.lookup_status()"
   ]
  },
  {
   "cell_type": "code",
   "execution_count": null,
   "metadata": {},
   "outputs": [],
   "source": [
    "# import gwaslab as gl\n",
    "\n",
    "# gl.dump_pickle(\n",
    "#     cimt_data_sumstats_qc,\n",
    "#     os.path.join(\n",
    "#         GWASCatalog_loc + \"/META_\" + PHENOTYPE + \"_\" + SEX + \"_\" + POPULATION + \".b37.gwaslab.qc.pkl\",\n",
    "#     ),\n",
    "#     overwrite=True,\n",
    "# )\n",
    "\n",
    "# # # cimt_data_sumstats_qc = gl.load_pickle(\n",
    "# # #     os.path.join(\n",
    "# # #         GWAS_RES_loc,\n",
    "# # #         \"meta_analysis/\" + SUBSTUDY_WOMEN + \"/AIS_WOMEN_\" + POPULATION + \"_b37_qc.gwaslab.pkl\",\n",
    "# # #     )\n",
    "# # # )\n",
    "\n",
    "# cimt_data_sumstats_qc.log.show()\n",
    "\n",
    "# cimt_data_sumstats_qc.log.save(\n",
    "#     os.path.join(\n",
    "#         GWASCatalog_loc + \"/META_\" + PHENOTYPE + \"_\" + SEX + \"_\" + POPULATION + \".b37.gwaslab.qc.log\",\n",
    "#     )\n",
    "# )"
   ]
  },
  {
   "cell_type": "code",
   "execution_count": null,
   "metadata": {},
   "outputs": [],
   "source": [
    "import gwaslab as gl\n",
    "\n",
    "gl.dump_pickle(\n",
    "    cimt_data_sumstats_qc_female,\n",
    "    os.path.join(\n",
    "        GWASCatalog_loc + \"/META_\" + PHENOTYPE + \"_\" + SEX1 + \"_\" + POPULATION + \".b37.gwaslab.qc.pkl\",\n",
    "    ),\n",
    "    overwrite=True,\n",
    ")"
   ]
  },
  {
   "cell_type": "code",
   "execution_count": null,
   "metadata": {},
   "outputs": [],
   "source": [
    "cimt_data_sumstats_qc_female.to_format(\n",
    "    os.path.join(GWASCatalog_loc + \"/META_\" + PHENOTYPE + \"_\" + SEX1 + \"_\" + POPULATION + \".b37.qc.gwaslab\"),\n",
    "    fmt=\"ssf\",\n",
    "    build=\"19\",\n",
    ")"
   ]
  },
  {
   "cell_type": "code",
   "execution_count": null,
   "metadata": {},
   "outputs": [],
   "source": [
    "import gwaslab as gl\n",
    "\n",
    "gl.dump_pickle(\n",
    "    cimt_data_sumstats_qc_male,\n",
    "    os.path.join(\n",
    "        GWASCatalog_loc + \"/META_\" + PHENOTYPE + \"_\" + SEX2 + \"_\" + POPULATION + \".b37.gwaslab.qc.pkl\",\n",
    "    ),\n",
    "    overwrite=True,\n",
    ")"
   ]
  },
  {
   "cell_type": "code",
   "execution_count": null,
   "metadata": {},
   "outputs": [],
   "source": [
    "cimt_data_sumstats_qc_male.to_format(\n",
    "    os.path.join(GWASCatalog_loc + \"/META_\" + PHENOTYPE + \"_\" + SEX2 + \"_\" + POPULATION + \".b37.qc.gwaslab\"),\n",
    "    fmt=\"ssf\",\n",
    "    build=\"19\",\n",
    ")"
   ]
  },
  {
   "cell_type": "code",
   "execution_count": null,
   "metadata": {},
   "outputs": [],
   "source": [
    "cimt_data_sumstats_qc_male.data"
   ]
  },
  {
   "cell_type": "code",
   "execution_count": null,
   "metadata": {},
   "outputs": [],
   "source": [
    "# import gwaslab as gl\n",
    "\n",
    "# gl.dump_pickle(\n",
    "#     cimt_data_sumstats_qc,\n",
    "#     os.path.join(\n",
    "#         GWASCatalog_loc + \"/META_\" + PHENOTYPE + \"_\" + SEX + \"_\" + POPULATION + \".b37.gwaslab.qc.pkl\",\n",
    "#     ),\n",
    "#     overwrite=True,\n",
    "# )\n",
    "\n",
    "# cimt_data_sumstats_qc = gl.load_pickle(\n",
    "#     os.path.joinos.path.join(\n",
    "#         GWASCatalog_loc + \"/META_\" + PHENOTYPE + \"_\" + SEX + \"_\" + POPULATION + \".b37.gwaslab.qc.pkl\",\n",
    "#     )\n",
    "# )\n",
    "\n",
    "# cimt_data_sumstats_qc.log.show()\n",
    "\n",
    "# cimt_data_sumstats_qc.log.save(\n",
    "#     os.path.join(\n",
    "#         GWASCatalog_loc + \"/META_\" + PHENOTYPE + \"_\" + SEX + \"_\" + POPULATION + \".b37.gwaslab.qc.log\",\n",
    "#     )\n",
    "# )"
   ]
  },
  {
   "cell_type": "markdown",
   "metadata": {},
   "source": [
    "### Visualisations\n",
    "\n",
    "Here we attempt to create a genome-wide plot annotating significant genes.\n",
    "\n",
    "#### Manhattan and stratified QQ plots\n",
    "\n",
    "Here we create an automatically annotated Manhattan plot. Annotation is based on hg19 (GRCh37), ensembl 87 (https://ftp.ensembl.org/pub/grch37/release-109/gtf/homo_sapiens/).\n"
   ]
  },
  {
   "cell_type": "code",
   "execution_count": null,
   "metadata": {},
   "outputs": [],
   "source": [
    "# # manhattan and qq plot\n",
    "# cimt_data_sumstats.plot_mqq(\n",
    "#     skip=2,\n",
    "#     cut=10,\n",
    "#     sig_line=True,\n",
    "#     sig_level=5e-8,\n",
    "#     anno=\"GENENAME\",\n",
    "#     anno_style=\"right\",\n",
    "#     windowsizekb=500,\n",
    "#     arm_offset=2,\n",
    "#     repel_force=0.02,  # default 0.01\n",
    "#     use_rank=True,\n",
    "#     build=\"19\",\n",
    "#     # mode=\"m\",\n",
    "#     stratified=True,\n",
    "#     drop_chr_start=True,\n",
    "#     # figargs={\"figsize\": (25, 15), \"dpi\": 300},\n",
    "#     title=\"\" + PHENOTYPE + \"_\" + SEX + \"_\" + POPULATION + \"\",\n",
    "#     save=os.path.join(\n",
    "#         PLOTS_loc, \"manhattan.500kb.300dpi.\" + PHENOTYPE + \"_\" + SEX + \"_\" + POPULATION + \".pdf\"),\n",
    "#     saveargs={\"dpi\": 300},\n",
    "#     verbose=True,\n",
    "# )"
   ]
  },
  {
   "cell_type": "code",
   "execution_count": null,
   "metadata": {},
   "outputs": [],
   "source": [
    "# manhattan and qq plot\n",
    "cimt_data_sumstats_female.plot_mqq(\n",
    "    skip=2,\n",
    "    cut=10,\n",
    "    sig_line=True,\n",
    "    sig_level=5e-8,\n",
    "    anno=\"GENENAME\",\n",
    "    anno_style=\"right\",\n",
    "    windowsizekb=500,\n",
    "    arm_offset=2,\n",
    "    repel_force=0.02,  # default 0.01\n",
    "    use_rank=True,\n",
    "    build=\"19\",\n",
    "    # mode=\"m\",\n",
    "    stratified=True,\n",
    "    drop_chr_start=True,\n",
    "    # figargs={\"figsize\": (25, 15), \"dpi\": 300},\n",
    "    title=\"\" + PHENOTYPE + \"_\" + SEX1 + \"_\" + POPULATION + \"\",\n",
    "    # save=os.path.join(\n",
    "    #     PLOTS_loc, \"manhattan.500kb.300dpi.\" + PHENOTYPE + \"_\" + SEX1 + \"_\" + POPULATION + \".pdf\"),\n",
    "    # saveargs={\"dpi\": 300},\n",
    "    verbose=True,\n",
    ")"
   ]
  },
  {
   "cell_type": "code",
   "execution_count": null,
   "metadata": {},
   "outputs": [],
   "source": [
    "# manhattan and qq plot\n",
    "cimt_data_sumstats_qc_female.plot_mqq(\n",
    "    skip=2,\n",
    "    cut=10,\n",
    "    sig_line=True,\n",
    "    sig_level=5e-8,\n",
    "    anno=\"GENENAME\",\n",
    "    anno_style=\"right\",\n",
    "    windowsizekb=500,\n",
    "    arm_offset=2,\n",
    "    repel_force=0.02,  # default 0.01\n",
    "    use_rank=True,\n",
    "    build=\"19\",\n",
    "    # mode=\"m\",\n",
    "    stratified=True,\n",
    "    drop_chr_start=True,\n",
    "    # figargs={\"figsize\": (25, 15), \"dpi\": 300},\n",
    "    title=\"\" + PHENOTYPE + \"_\" + SEX1 + \"_\" + POPULATION + \"_\" + \"QC\" + \"\",\n",
    "    # save=os.path.join(\n",
    "    #     PLOTS_loc, \"manhattan.500kb.300dpi.\" + PHENOTYPE + \"_\" + SEX1 + \"_\" + POPULATION + \".QC.pdf\"),\n",
    "    # saveargs={\"dpi\": 300},\n",
    "    verbose=True,\n",
    ")"
   ]
  },
  {
   "cell_type": "code",
   "execution_count": null,
   "metadata": {},
   "outputs": [],
   "source": [
    "# manhattan and qq plot\n",
    "cimt_data_sumstats_male.plot_mqq(\n",
    "    skip=2,\n",
    "    cut=10,\n",
    "    sig_line=True,\n",
    "    sig_level=5e-8,\n",
    "    anno=\"GENENAME\",\n",
    "    anno_style=\"right\",\n",
    "    windowsizekb=500,\n",
    "    arm_offset=2,\n",
    "    repel_force=0.02,  # default 0.01\n",
    "    use_rank=True,\n",
    "    build=\"19\",\n",
    "    # mode=\"m\",\n",
    "    stratified=True,\n",
    "    drop_chr_start=True,\n",
    "    # figargs={\"figsize\": (25, 15), \"dpi\": 300},\n",
    "    title=\"\" + PHENOTYPE + \"_\" + SEX2 + \"_\" + POPULATION + \"\",\n",
    "    # save=os.path.join(\n",
    "    #     PLOTS_loc, \"manhattan.500kb.300dpi.\" + PHENOTYPE + \"_\" + SEX2 + \"_\" + POPULATION + \".pdf\"),\n",
    "    # saveargs={\"dpi\": 300},\n",
    "    verbose=True,\n",
    ")"
   ]
  },
  {
   "cell_type": "code",
   "execution_count": null,
   "metadata": {},
   "outputs": [],
   "source": [
    "# manhattan and qq plot\n",
    "cimt_data_sumstats_qc_male.plot_mqq(\n",
    "    skip=2,\n",
    "    cut=10,\n",
    "    sig_line=True,\n",
    "    sig_level=5e-8,\n",
    "    anno=\"GENENAME\",\n",
    "    anno_style=\"right\",\n",
    "    windowsizekb=500,\n",
    "    arm_offset=2,\n",
    "    repel_force=0.02,  # default 0.01\n",
    "    use_rank=True,\n",
    "    build=\"19\",\n",
    "    # mode=\"m\",\n",
    "    stratified=True,\n",
    "    drop_chr_start=True,\n",
    "    # figargs={\"figsize\": (25, 15), \"dpi\": 300},\n",
    "    title=\"\" + PHENOTYPE + \"_\" + SEX2 + \"_\" + POPULATION + \"_\" + \"QC\" + \"\",\n",
    "    # save=os.path.join(\n",
    "    #     PLOTS_loc, \"manhattan.500kb.300dpi.\" + PHENOTYPE + \"_\" + SEX2 + \"_\" + POPULATION + \".QC.pdf\"),\n",
    "    # saveargs={\"dpi\": 300},\n",
    "    verbose=True,\n",
    ")"
   ]
  },
  {
   "cell_type": "markdown",
   "metadata": {},
   "source": [
    "### Top loci\n",
    "\n",
    "We inventory the top loci.\n"
   ]
  },
  {
   "cell_type": "code",
   "execution_count": null,
   "metadata": {},
   "outputs": [],
   "source": [
    "# cimt_data_sumstats.get_lead(anno=True, sig_level=5e-8, verbose=True)"
   ]
  },
  {
   "cell_type": "code",
   "execution_count": null,
   "metadata": {},
   "outputs": [],
   "source": [
    "cimt_data_sumstats_female.get_lead(anno=True, sig_level=5e-8, verbose=True)"
   ]
  },
  {
   "cell_type": "code",
   "execution_count": null,
   "metadata": {},
   "outputs": [],
   "source": [
    "cimt_data_sumstats_male.get_lead(anno=True, sig_level=5e-8, verbose=True)"
   ]
  },
  {
   "cell_type": "code",
   "execution_count": null,
   "metadata": {},
   "outputs": [],
   "source": [
    "cimt_data_sumstats_female.get_lead(anno=True, sig_level=5e-6, verbose=True)"
   ]
  },
  {
   "cell_type": "code",
   "execution_count": null,
   "metadata": {},
   "outputs": [],
   "source": [
    "cimt_data_sumstats_male.get_lead(anno=True, sig_level=5e-6, verbose=True)"
   ]
  },
  {
   "cell_type": "code",
   "execution_count": null,
   "metadata": {},
   "outputs": [],
   "source": [
    "# highlight\tlist\tlist of loci (tuples of CHR and POS) to highlight for both sumstats. For example, highlight=[(2,2153874),(5,124289158)]\tNone\n",
    "# highlight1\tlist\tlist of loci (tuples of CHR and POS) to highlight for sumstats1. For example, highlight1=[(2,2153874),(5,124289158)]\tNone\n",
    "# highlight2\tlist\tlist of loci (tuples of CHR and POS) to highlight for sumstats2. For example, highlight2=[(2,2153874),(5,124289158)]\tNone\n",
    "# highlight_windowkb\tint\twindow size for highlighting loci\t500\n",
    "# highlight_color\tcolor\tcolor for highlighting loci\t\"#CB132D\"\n",
    "\n",
    "female_vs_male_sumstats = gl.plot_miami(path1=cimt_data_sumstats_female,\n",
    "                                     path2=cimt_data_sumstats_male,\n",
    "                                     titles=[SEX1, SEX2],\n",
    "                                     titles_pad=[0.15, 0.0],\n",
    "                                     anno=\"GENENAME\",\n",
    "                                     anno_set=[(3, 116367226), (15, 87431547)],\n",
    "                                     highlight=[(3, 116367226),\n",
    "                                                (15, 87431547)],\n",
    "                                     highlight_windowkb=500,\n",
    "                                      #  save=os.path.join(PLOTS_loc, \"miami.500kb.300dpi.\" + POPULATION + \".\" + SEX1 + \"_vs_\" + SEX2 + \".pdf\"),\n",
    "                                      #saveargs={\"dpi\": 300}\n",
    "                                     )"
   ]
  },
  {
   "cell_type": "code",
   "execution_count": null,
   "metadata": {},
   "outputs": [],
   "source": [
    "# highlight\tlist\tlist of loci (tuples of CHR and POS) to highlight for both sumstats. For example, highlight=[(2,2153874),(5,124289158)]\tNone\n",
    "# highlight1\tlist\tlist of loci (tuples of CHR and POS) to highlight for sumstats1. For example, highlight1=[(2,2153874),(5,124289158)]\tNone\n",
    "# highlight2\tlist\tlist of loci (tuples of CHR and POS) to highlight for sumstats2. For example, highlight2=[(2,2153874),(5,124289158)]\tNone\n",
    "# highlight_windowkb\tint\twindow size for highlighting loci\t500\n",
    "# highlight_color\tcolor\tcolor for highlighting loci\t\"#CB132D\"\n",
    "\n",
    "female_vs_male_sumstats = gl.plot_miami(path1=cimt_data_sumstats_qc_female,\n",
    "                                     path2=cimt_data_sumstats_qc_male,\n",
    "                                     titles=[SEX1 + \"-QC\", SEX2 + \"-QC\"],\n",
    "                                     titles_pad=[0.15, 0.0],\n",
    "                                     anno=\"GENENAME\",\n",
    "                                     anno_set=[(3, 116367226), (15, 87431547)],\n",
    "                                     highlight=[(3, 116367226),\n",
    "                                                (15, 87431547)],\n",
    "                                     highlight_windowkb=500,\n",
    "                                      #  save=os.path.join(PLOTS_loc, \"miami.500kb.300dpi.\" + POPULATION + \".\" + SEX1 + \"_vs_\" + SEX2 + \".QC.pdf\"),\n",
    "                                      #  saveargs={\"dpi\": 300}\n",
    "                                     )"
   ]
  },
  {
   "cell_type": "markdown",
   "metadata": {},
   "source": [
    "### Effect Comparison\n",
    "\n",
    "Get the targets for `PHENOTYPE` and compare SEX1 and SEX2\n"
   ]
  },
  {
   "cell_type": "code",
   "execution_count": null,
   "metadata": {},
   "outputs": [],
   "source": [
    "# https://cloufield.github.io/gwaslab/EffectSize/\n",
    "\n",
    "gl.compare_effect(\n",
    "    cimt_data_sumstats_female,\n",
    "    cimt_data_sumstats_male,\n",
    "    mode=\"beta\",\n",
    "    #label=[SEX1, SEX2],\n",
    "    #label=[PHENOTYPE, \"Females\", \"Males\"],\n",
    "    label=[SEX1,SEX2,\"Both\",\"None\"],\n",
    "    sig_level=5e-6,\n",
    "    legend_title=r\"$ P < 5 x 10^{-6}$ in:\",\n",
    "    legend_title2=r\"Heterogeneity test:\",\n",
    "    legend_pos=\"upper left\",\n",
    "    #  legend_args=None,\n",
    "    xylabel_prefix=\"Per-allele effect size in \",\n",
    "    is_reg=True,\n",
    "    is_45_helper_line=True,\n",
    "    # anno=True,\n",
    "    # anno_min=0,\n",
    "    # anno_min1=0,\n",
    "    # anno_min2=0,\n",
    "    # anno_diff=0,\n",
    "    # is_q=False,\n",
    "    q_level=0.05,\n",
    "    # anno_het=False,\n",
    "    # r_se=False,\n",
    "    #  fdr=False,\n",
    "    #  legend_mode=\"full\",\n",
    "     save=True,\n",
    "    # saveargs=None,\n",
    "    verbose=False,\n",
    ")"
   ]
  },
  {
   "cell_type": "code",
   "execution_count": null,
   "metadata": {},
   "outputs": [],
   "source": [
    "# https://cloufield.github.io/gwaslab/EffectSize/\n",
    "\n",
    "gl.compare_effect(\n",
    "    cimt_data_sumstats_qc_female,\n",
    "    cimt_data_sumstats_qc_male,\n",
    "    mode=\"beta\",\n",
    "    #label=[SEX1, SEX2],\n",
    "    #label=[PHENOTYPE, \"Females\", \"Males\"],\n",
    "    label=[SEX1,SEX2,\"Both\",\"None\"],\n",
    "    sig_level=5e-6,\n",
    "    legend_title=r\"$ P < 5 x 10^{-6}$ in:\",\n",
    "    legend_title2=r\"Heterogeneity test:\",\n",
    "    legend_pos=\"upper left\",\n",
    "    #  legend_args=None,\n",
    "    xylabel_prefix=\"Per-allele effect size in \",\n",
    "    is_reg=True,\n",
    "    is_45_helper_line=True,\n",
    "    # anno=True,\n",
    "    # anno_min=0,\n",
    "    # anno_min1=0,\n",
    "    # anno_min2=0,\n",
    "    # anno_diff=0,\n",
    "    # is_q=False,\n",
    "    q_level=0.05,\n",
    "    # anno_het=False,\n",
    "    # r_se=False,\n",
    "    #  fdr=False,\n",
    "    #  legend_mode=\"full\",\n",
    "     save=True,\n",
    "    # saveargs=None,\n",
    "    verbose=False,\n",
    ")"
   ]
  }
 ],
 "metadata": {
  "kernelspec": {
   "display_name": "gwaslab",
   "language": "python",
   "name": "python3"
  },
  "language_info": {
   "codemirror_mode": {
    "name": "ipython",
    "version": 3
   },
   "file_extension": ".py",
   "mimetype": "text/x-python",
   "name": "python",
   "nbconvert_exporter": "python",
   "pygments_lexer": "ipython3",
   "version": "3.9.20"
  },
  "orig_nbformat": 4
 },
 "nbformat": 4,
 "nbformat_minor": 2
}
