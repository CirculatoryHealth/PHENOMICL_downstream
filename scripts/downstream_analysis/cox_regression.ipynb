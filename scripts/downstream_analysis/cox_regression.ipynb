{
 "cells": [
  {
   "cell_type": "code",
   "execution_count": null,
   "metadata": {},
   "outputs": [],
   "source": [
    "# import libraries\n",
    "import os\n",
    "import pyreadr\n",
    "import pandas as pd\n",
    "import collections\n",
    "import numpy as np\n",
    "import re\n",
    "import datetime\n",
    "import matplotlib as mpl\n",
    "import matplotlib.pyplot as plt\n",
    "from scipy.stats import mannwhitneyu, chi2_contingency\n",
    "import seaborn as sns\n",
    "from matplotlib.patches import Patch\n",
    "import pyreadr\n",
    "from lifelines import KaplanMeierFitter"
   ]
  },
  {
   "cell_type": "code",
   "execution_count": null,
   "metadata": {},
   "outputs": [],
   "source": [
    "import pyreadr\n",
    "\n",
    "# Import the necessary library\n",
    "\n",
    "# Read the RDS file and load it into a DataFrame\n",
    "# Note: Replace 'path/to/your/file.RDS' with the actual path to your RDS file\n",
    "result = pyreadr.read_r('path/to/your/file.RDS')\n",
    "\n",
    "# Extract the DataFrame from the result\n",
    "df = result[None]\n",
    "\n",
    "# Convert the 'STUDY_NUMBER' column to float type\n",
    "df['STUDY_NUMBER'] = df['STUDY_NUMBER'].astype(float)\n",
    "\n",
    "# Display the DataFrame\n",
    "df"
   ]
  },
  {
   "cell_type": "code",
   "execution_count": null,
   "metadata": {},
   "outputs": [],
   "source": [
    "# Read the imputed data from a CSV file and load it into a DataFrame\n",
    "# Note: Replace 'path/to/your/imputed_data.csv' with the actual path to your imputed data file\n",
    "df_imp = pd.read_csv('path/to/your/imputed_data.csv')\n",
    "\n",
    "# Convert the 'STUDY_NUMBER' column to float type\n",
    "df_imp['STUDY_NUMBER'] = df_imp['STUDY_NUMBER'].astype(float)\n",
    "\n",
    "# Display the DataFrame\n",
    "df_imp"
   ]
  },
  {
   "cell_type": "code",
   "execution_count": null,
   "metadata": {},
   "outputs": [],
   "source": [
    "# Merge the dataframes on 'STUDY_NUMBER', appending suffixes to overlapping columns\n",
    "merged_df = df.merge(df_imp, on='STUDY_NUMBER', suffixes=('', '_new'))\n",
    "\n",
    "# Automatically replace original columns with the new ones from the imputed dataframe\n",
    "for col in df.columns:\n",
    "    if col in df_imp.columns and col != 'STUDY_NUMBER':  # Skip the 'STUDY_NUMBER' column\n",
    "        merged_df[col] = merged_df[col + '_new']\n",
    "        merged_df.drop(columns=[col + '_new'], inplace=True)  # Drop the suffixed column\n",
    "\n",
    "# Update the original dataframe with the merged dataframe\n",
    "df = merged_df\n",
    "\n",
    "# Display the updated dataframe\n",
    "df"
   ]
  },
  {
   "cell_type": "code",
   "execution_count": null,
   "metadata": {},
   "outputs": [],
   "source": [
    "# Read the IPH data from a CSV file\n",
    "# Note: Replace 'path/to/your/iph_data.csv' with the actual path to your IPH data file\n",
    "df_iph = pd.read_csv('path/to/your/iph_data.csv')\n",
    "\n",
    "# Extract the 'AENR' from the 'case_id' column by splitting the string and taking the last part before the file extension\n",
    "df_iph['AENR'] = [i.split('/')[-1].rsplit('.')[0] for i in df_iph['case_id']]\n",
    "\n",
    "# Convert the 'AENR' to 'STUDY_NUMBER' by removing the 'AE' prefix and converting to integer\n",
    "df_iph['STUDY_NUMBER'] = [int(i.replace('AE', '')) for i in df_iph['AENR']]\n",
    "\n",
    "# Display the DataFrame\n",
    "df_iph"
   ]
  },
  {
   "cell_type": "code",
   "execution_count": null,
   "metadata": {},
   "outputs": [
    {
     "data": {
      "text/plain": [
       "2220"
      ]
     },
     "execution_count": 13,
     "metadata": {},
     "output_type": "execute_result"
    }
   ],
   "source": [
    "# Find the intersection of 'STUDY_NUMBER' between the two dataframes\n",
    "intersection = set(df['STUDY_NUMBER']) & set(df_iph['STUDY_NUMBER'])\n",
    "\n",
    "# Print the number of common 'STUDY_NUMBER' entries\n",
    "len(intersection)"
   ]
  },
  {
   "cell_type": "code",
   "execution_count": null,
   "metadata": {},
   "outputs": [],
   "source": [
    "# Filter the IPH dataframe to only include rows with 'STUDY_NUMBER' present in the intersection\n",
    "df_iph = df_iph[df_iph['STUDY_NUMBER'].isin(list(intersection))]\n",
    "\n",
    "# Filter the main dataframe to only include rows with 'STUDY_NUMBER' present in the intersection\n",
    "df = df[df['STUDY_NUMBER'].isin(list(intersection))]"
   ]
  },
  {
   "cell_type": "code",
   "execution_count": null,
   "metadata": {},
   "outputs": [],
   "source": [
    "# Merge the main dataframe with the IPH dataframe on 'STUDY_NUMBER' using an inner join\n",
    "df_combined = df.merge(df_iph, how='inner', on='STUDY_NUMBER')\n",
    "\n",
    "# Display the combined dataframe\n",
    "df_combined"
   ]
  },
  {
   "cell_type": "code",
   "execution_count": null,
   "metadata": {},
   "outputs": [],
   "source": [
    "# Define the columns to be used for analysis\n",
    "# The columns include demographic information, medical history, medication usage, and various clinical measurements\n",
    "# The columns are selected based on the updated requirements (26-08-2024)\n",
    "\n",
    "# Columns:\n",
    "# Age: Age of the patient\n",
    "# Gender: Gender of the patient\n",
    "# Symptoms.Update2G: Updated symptoms information\n",
    "# Med.Statin.LLD: Medication - Statin or Lipid-Lowering Drugs\n",
    "# MI_Dx: History of myocardial infarction\n",
    "# Med.acetylsal: Medication - Acetylsalicylic acid (Aspirin)\n",
    "# Med.anticoagulants: Medication - Anticoagulants\n",
    "# Med.dipyridamole: Medication - Dipyridamole\n",
    "# Hypertension.composite: Composite measure of hypertension\n",
    "# stenosis_con_bin: Binary indicator of stenosis condition\n",
    "# CRP_avg: Average C-reactive protein level\n",
    "# HDL_final: Final HDL cholesterol level\n",
    "# epcom.3years: Composite endpoint at 3 years\n",
    "# ep_com_t_3years: Time to composite endpoint at 3 years\n",
    "# IPH.bin: Binary indicator of intraplaque hemorrhage (manual)\n",
    "# area: Area measurement\n",
    "# prob: Probability measurement\n",
    "# IPH: Intraplaque hemorrhage indicator (model)\n",
    "# dateok: Date of the observation\n",
    "\n",
    "# Select the columns from the combined dataframe for analysis\n",
    "df_analysis = df_combined[['Age', 'Gender', \"Symptoms.Update2G\", 'Med.Statin.LLD', 'MI_Dx', 'Med.acetylsal', \n",
    "                           'Med.anticoagulants', 'Med.dipyridamole', 'Hypertension.composite', 'stenosis_con_bin', \n",
    "                           'CRP_avg', 'HDL_final', 'epcom.3years', \"ep_com_t_3years\", 'IPH.bin', 'area', 'prob', \n",
    "                           'IPH', 'dateok']]\n"
   ]
  },
  {
   "cell_type": "code",
   "execution_count": null,
   "metadata": {},
   "outputs": [],
   "source": [
    "# Define the date for filtering\n",
    "date_y = 2008\n",
    "date_m = 3\n",
    "date_d = 11\n",
    "\n",
    "# Create a date filter to select rows with 'dateok' before the specified date\n",
    "date_filter = (df_analysis['dateok'] < datetime.date(date_y, date_m, date_d))\n",
    "\n",
    "# Apply the date filter to the dataframe\n",
    "df_analysis = df_analysis[date_filter]"
   ]
  },
  {
   "cell_type": "code",
   "execution_count": null,
   "metadata": {},
   "outputs": [],
   "source": [
    "# Check for missing values in the dataframe\n",
    "df_analysis.isnull().sum()"
   ]
  },
  {
   "cell_type": "code",
   "execution_count": null,
   "metadata": {},
   "outputs": [],
   "source": [
    "# Drop rows with any missing values from the dataframe\n",
    "df_analysis = df_analysis.dropna()"
   ]
  },
  {
   "cell_type": "code",
   "execution_count": null,
   "metadata": {},
   "outputs": [],
   "source": [
    "# Drop the 'dateok' column from the dataframe\n",
    "df_analysis = df_analysis.drop(['dateok'], axis=1)"
   ]
  },
  {
   "cell_type": "code",
   "execution_count": null,
   "metadata": {},
   "outputs": [],
   "source": [
    "df_analysis.isnull().sum()"
   ]
  },
  {
   "cell_type": "code",
   "execution_count": null,
   "metadata": {},
   "outputs": [],
   "source": [
    "# Count the occurrences of each unique value in the 'Gender' column\n",
    "gender_counts = df_analysis['Gender'].value_counts()\n",
    "\n",
    "# Display the counts\n",
    "gender_counts"
   ]
  },
  {
   "cell_type": "code",
   "execution_count": null,
   "metadata": {},
   "outputs": [],
   "source": [
    "# Calculate the mean of the 'ep_com_t_3years' column in the dataframe\n",
    "mean_ep_com_t_3years = df_analysis[\"ep_com_t_3years\"].mean()\n",
    "\n",
    "# Display the mean value\n",
    "mean_ep_com_t_3years"
   ]
  },
  {
   "cell_type": "code",
   "execution_count": null,
   "metadata": {},
   "outputs": [],
   "source": [
    "# Count the occurrences of each unique value in the 'epcom.3years' column\n",
    "# This column represents the composite endpoint at 3 years\n",
    "epcom_counts = df_analysis[\"epcom.3years\"].value_counts()\n",
    "\n",
    "# Display the counts\n",
    "epcom_counts"
   ]
  },
  {
   "cell_type": "code",
   "execution_count": null,
   "metadata": {},
   "outputs": [],
   "source": [
    "# Count the occurrences of each unique value in the 'epcom.3years' column for male patients\n",
    "# This column represents the composite endpoint at 3 years\n",
    "\n",
    "# Filter the dataframe to include only male patients\n",
    "male_patients = df_analysis[df_analysis[\"Gender\"] == \"male\"]\n",
    "\n",
    "# Count the occurrences of each unique value in the 'epcom.3years' column for the filtered dataframe\n",
    "epcom_counts_male = male_patients[\"epcom.3years\"].value_counts()\n",
    "\n",
    "# Display the counts\n",
    "epcom_counts_male"
   ]
  },
  {
   "cell_type": "code",
   "execution_count": null,
   "metadata": {},
   "outputs": [],
   "source": [
    "# Count the occurrences of each unique value in the 'epcom.3years' column for female patients\n",
    "# This column represents the composite endpoint at 3 years\n",
    "\n",
    "# Filter the dataframe to include only female patients\n",
    "female_patients = df_analysis[df_analysis[\"Gender\"] == \"female\"]\n",
    "\n",
    "# Count the occurrences of each unique value in the 'epcom.3years' column for the filtered dataframe\n",
    "epcom_counts_female = female_patients[\"epcom.3years\"].value_counts()\n",
    "\n",
    "# Display the counts\n",
    "epcom_counts_female"
   ]
  },
  {
   "cell_type": "code",
   "execution_count": null,
   "metadata": {},
   "outputs": [],
   "source": []
  },
  {
   "cell_type": "code",
   "execution_count": null,
   "metadata": {},
   "outputs": [],
   "source": [
    "# Create a copy of the dataframe for further analysis\n",
    "df_copy = df_analysis"
   ]
  },
  {
   "cell_type": "code",
   "execution_count": null,
   "metadata": {},
   "outputs": [],
   "source": [
    "# Define the directory where the results will be saved\n",
    "\n",
    "# Temporary directory for saving results\n",
    "SAVE_DIR = \"./your_directory/tmp/\"\n"
   ]
  },
  {
   "cell_type": "code",
   "execution_count": null,
   "metadata": {},
   "outputs": [],
   "source": [
    "import os\n",
    "\n",
    "# Check if the directory specified in SAVE_DIR exists, if not, create it\n",
    "if not os.path.exists(SAVE_DIR):\n",
    "    os.makedirs(SAVE_DIR)"
   ]
  },
  {
   "cell_type": "code",
   "execution_count": null,
   "metadata": {},
   "outputs": [],
   "source": [
    "# Restore the original dataframe from the copy\n",
    "df_analysis = df_copy\n",
    "\n",
    "# Uncomment the following lines to filter the dataframe based on the IPH column\n",
    "\n",
    "# Drop specific columns from the dataframe based on the analysis requirements\n",
    "# Uncomment the appropriate line to drop the desired columns\n",
    "\n",
    "# Drop 'area', 'prob', and 'IPH' columns, keeping 'IPH.bin' (original manual)\n",
    "# df_analysis = df_analysis.drop(['area', 'prob', 'IPH'], axis=1)\n",
    "\n",
    "# Drop 'area', 'prob', and 'IPH.bin' columns, keeping 'IPH' (CLAM prediction)\n",
    "# df_analysis = df_analysis.drop(['area', 'prob', 'IPH.bin'], axis=1)\n",
    "\n",
    "# Drop 'area', 'IPH.bin', and 'IPH' columns, keeping 'prob' (CLAM prediction)\n",
    "# df_analysis = df_analysis.drop(['area', 'IPH.bin', 'IPH'], axis=1)\n",
    "\n",
    "# Drop 'IPH.bin', 'prob', and 'IPH' columns, keeping 'area' (CLAM prediction)\n",
    "df_analysis = df_analysis.drop(['IPH.bin', 'prob', 'IPH'], axis=1)\n"
   ]
  },
  {
   "cell_type": "code",
   "execution_count": null,
   "metadata": {},
   "outputs": [],
   "source": [
    "# Convert 'Gender' and 'Symptoms.Update2G' columns to categorical codes\n",
    "df_analysis.Gender = pd.Categorical(df_analysis.Gender).codes\n",
    "df_analysis[\"Symptoms.Update2G\"] = pd.Categorical(df_analysis[\"Symptoms.Update2G\"]).codes\n",
    "\n",
    "# Convert categorical variables to dummy/indicator variables\n",
    "df_analysis = pd.get_dummies(df_analysis, drop_first=True)\n",
    "\n",
    "# Rename 'ep_com_t_3years' to 'time' for CoxPHFitter\n",
    "df_analysis['time'] = df_analysis[\"ep_com_t_3years\"]\n",
    "df_analysis = df_analysis.drop(\"ep_com_t_3years\", axis=1)"
   ]
  },
  {
   "cell_type": "code",
   "execution_count": null,
   "metadata": {},
   "outputs": [],
   "source": [
    "from lifelines import CoxPHFitter\n",
    "\n",
    "# Initialize the Cox Proportional Hazards model\n",
    "cph_a = CoxPHFitter()\n",
    "\n",
    "# Fit the model to the dataframe\n",
    "# 'time' is the duration column, and 'epcom.3years' is the event column\n",
    "# The show_progress parameter displays a progress bar during fitting\n",
    "cph_a.fit(df_analysis, duration_col='time', event_col='epcom.3years', show_progress=True)\n",
    "\n",
    "# Print the summary of the fitted model\n",
    "cph_a.print_summary()"
   ]
  },
  {
   "cell_type": "code",
   "execution_count": null,
   "metadata": {},
   "outputs": [],
   "source": [
    "# Create a new figure with specified size\n",
    "plt.subplots(figsize=(10, 6))\n",
    "\n",
    "# Plot the Cox Proportional Hazards model summary\n",
    "cph_a.plot()\n",
    "\n",
    "# Add title and labels to the plot\n",
    "plt.title(\"Cox Proportional Hazards Model Summary\")\n",
    "plt.xlabel(\"Coefficient\")\n",
    "plt.ylabel(\"Variables\")\n",
    "\n",
    "# Remove the 'right' and 'top' spines for a cleaner look\n",
    "ax = plt.gca()  # Get current axes\n",
    "ax.spines[['right', 'top']].set_visible(False)\n",
    "\n",
    "# Show the plot\n",
    "plt.show()"
   ]
  },
  {
   "cell_type": "code",
   "execution_count": null,
   "metadata": {},
   "outputs": [],
   "source": [
    "import matplotlib\n",
    "\n",
    "# Update the default font size for all plots\n",
    "matplotlib.rcParams.update({'font.size': 11})"
   ]
  },
  {
   "cell_type": "code",
   "execution_count": null,
   "metadata": {},
   "outputs": [],
   "source": [
    "# Create a new figure with specified size\n",
    "plt.figure(figsize=(10, 8))\n",
    "\n",
    "# Turn off interactive plotting\n",
    "plt.ioff()\n",
    "\n",
    "# Plot partial effects on outcome for different covariates if they exist in the dataframe\n",
    "if 'IPH.bin_yes' in df_analysis.columns.values:\n",
    "    cph_a.plot_partial_effects_on_outcome(covariates='IPH.bin_yes', values=[False, True], cmap='coolwarm')\n",
    "    label_file = \"manual\"\n",
    "if 'IPH' in df_analysis.columns.values:\n",
    "    cph_a.plot_partial_effects_on_outcome(covariates='IPH', values=[False, True], cmap='coolwarm')\n",
    "    label_file = \"model\"\n",
    "if 'area' in df_analysis.columns.values:\n",
    "    cph_a.plot_partial_effects_on_outcome(covariates='area', values=[0, 0.25, 0.5, 0.75, 1], cmap='coolwarm')\n",
    "    label_file = \"area\"\n",
    "if 'prob' in df_analysis.columns.values:\n",
    "    cph_a.plot_partial_effects_on_outcome(covariates='prob', values=[0, 0.25, 0.5, 0.75, 1], cmap='coolwarm')\n",
    "    label_file = \"prob\"\n",
    "\n",
    "# Set y-axis limits\n",
    "plt.ylim(0.60, 1.0)\n",
    "\n",
    "# Set x and y labels\n",
    "plt.xlabel(\"Time (years)\")\n",
    "plt.ylabel(\"Survival Probability\")\n",
    "\n",
    "# Update font size for the plot\n",
    "plt.rcParams.update({'font.size': 14})\n",
    "\n",
    "# Remove the 'right' and 'top' spines for a cleaner look\n",
    "ax = plt.gca()  # Get current axes\n",
    "ax.spines[['right', 'top']].set_visible(False)\n",
    "\n",
    "# Access the lines in the plot\n",
    "lines = ax.get_lines()\n",
    "\n",
    "# Custom colorblind palette (tab10)\n",
    "colorblind_palette = ['#1f77b4', '#ff7f0e', '#2ca02c', '#d62728', '#9467bd', \n",
    "                      '#8c564b', '#e377c2', '#7f7f7f', '#bcbd22', '#17becf']\n",
    "\n",
    "# Reassign colors to lines based on the palette\n",
    "for i, line in enumerate(lines):\n",
    "    line.set_color(colorblind_palette[i % len(colorblind_palette)])\n",
    "\n",
    "# Customize legend text based on the label_file\n",
    "L = plt.legend()\n",
    "if label_file == \"manual\" or label_file == \"model\":\n",
    "    L.get_texts()[0].set_text('IPH=False')\n",
    "    L.get_texts()[1].set_text('IPH=True')\n",
    "elif label_file == \"area\":\n",
    "    for i, text in enumerate([0, 0.25, 0.5, 0.75, 1]):\n",
    "        L.get_texts()[i].set_text(f'IPH area={text}')\n",
    "elif label_file == \"prob\":\n",
    "    for i, text in enumerate([0, 0.25, 0.5, 0.75, 1]):\n",
    "        L.get_texts()[i].set_text(f'IPH prob={text}')\n",
    "\n",
    "# Save the plot to a file in the specified directory\n",
    "plt.savefig(SAVE_DIR + f'partial_effects_plot_all_IPH_{label_file}.pdf', format='pdf', dpi=300)\n",
    "\n",
    "# Turn on interactive plotting\n",
    "plt.ion()\n",
    "\n",
    "# Show the plot\n",
    "plt.show()"
   ]
  },
  {
   "cell_type": "code",
   "execution_count": null,
   "metadata": {},
   "outputs": [],
   "source": [
    "# Check the proportional hazards assumption for the Cox Proportional Hazards model\n",
    "# This function tests whether the proportional hazards assumption holds for each covariate\n",
    "# The p_value_threshold parameter is used to determine the significance level for the test\n",
    "\n",
    "# Generalized code for checking assumptions\n",
    "cph_a.check_assumptions(df_analysis, p_value_threshold=0.05)"
   ]
  },
  {
   "cell_type": "code",
   "execution_count": null,
   "metadata": {},
   "outputs": [],
   "source": []
  },
  {
   "cell_type": "code",
   "execution_count": null,
   "metadata": {},
   "outputs": [],
   "source": [
    "from lifelines import CoxPHFitter\n",
    "\n",
    "# Initialize the Cox Proportional Hazards model for female patients\n",
    "cph_f = CoxPHFitter()\n",
    "\n",
    "# Filter the dataframe to include only female patients\n",
    "female_patients = df_analysis.loc[df_analysis['Gender'] == 0]\n",
    "\n",
    "# Drop the 'Gender' column as it is not needed for the model\n",
    "female_patients = female_patients.drop(['Gender'], axis=1)\n",
    "\n",
    "# Fit the Cox Proportional Hazards model to the filtered dataframe\n",
    "# 'time' is the duration column, and 'epcom.3years' is the event column\n",
    "# The show_progress parameter displays a progress bar during fitting\n",
    "cph_f.fit(female_patients, duration_col='time', event_col='epcom.3years', show_progress=True)\n",
    "\n",
    "# Print the summary of the fitted model\n",
    "cph_f.print_summary()"
   ]
  },
  {
   "cell_type": "code",
   "execution_count": null,
   "metadata": {},
   "outputs": [],
   "source": [
    "# Create a new figure with specified size\n",
    "plt.subplots(figsize=(10, 6))\n",
    "\n",
    "# Plot the Cox Proportional Hazards model summary for female patients\n",
    "cph_f.plot()\n",
    "\n",
    "# Add title and labels to the plot\n",
    "plt.title(\"Cox Proportional Hazards Model Summary for Female Patients\")\n",
    "plt.xlabel(\"Coefficient\")\n",
    "plt.ylabel(\"Variables\")\n",
    "\n",
    "# Remove the 'right' and 'top' spines for a cleaner look\n",
    "ax = plt.gca()  # Get current axes\n",
    "ax.spines[['right', 'top']].set_visible(False)\n",
    "\n",
    "# Show the plot\n",
    "plt.show()"
   ]
  },
  {
   "cell_type": "code",
   "execution_count": null,
   "metadata": {},
   "outputs": [],
   "source": [
    "# Create a new figure with specified size\n",
    "plt.figure(figsize=(10, 8))\n",
    "\n",
    "# Turn off interactive plotting\n",
    "plt.ioff()\n",
    "\n",
    "# Plot partial effects on outcome for different covariates if they exist in the dataframe\n",
    "if 'IPH.bin_yes' in df_analysis.columns.values:\n",
    "    cph_f.plot_partial_effects_on_outcome(covariates='IPH.bin_yes', values=[False, True], cmap='coolwarm')\n",
    "    label_file = \"manual\"\n",
    "if 'IPH' in df_analysis.columns.values:\n",
    "    cph_f.plot_partial_effects_on_outcome(covariates='IPH', values=[False, True], cmap='coolwarm')\n",
    "    label_file = \"model\"\n",
    "if 'area' in df_analysis.columns.values:\n",
    "    cph_f.plot_partial_effects_on_outcome(covariates='area', values=[0, 0.25, 0.5, 0.75, 1], cmap='coolwarm')\n",
    "    label_file = \"area\"\n",
    "if 'prob' in df_analysis.columns.values:\n",
    "    cph_f.plot_partial_effects_on_outcome(covariates='prob', values=[0, 0.25, 0.5, 0.75, 1], cmap='coolwarm')\n",
    "    label_file = \"prob\"\n",
    "\n",
    "# Set y-axis limits\n",
    "plt.ylim(0.60, 1.0)\n",
    "\n",
    "# Set x and y labels\n",
    "plt.xlabel(\"Time (years)\")\n",
    "plt.ylabel(\"Survival Probability\")\n",
    "\n",
    "# Remove the 'right' and 'top' spines for a cleaner look\n",
    "ax = plt.gca()  # Get current axes\n",
    "ax.spines[['right', 'top']].set_visible(False)\n",
    "\n",
    "# Update font size for the plot\n",
    "plt.rcParams.update({'font.size': 14})\n",
    "\n",
    "# Access the lines in the plot\n",
    "lines = ax.get_lines()\n",
    "\n",
    "# Custom colorblind palette (tab10)\n",
    "colorblind_palette = ['#1f77b4', '#ff7f0e', '#2ca02c', '#d62728', '#9467bd', \n",
    "                      '#8c564b', '#e377c2', '#7f7f7f', '#bcbd22', '#17becf']\n",
    "\n",
    "# Reassign colors to lines based on the palette\n",
    "for i, line in enumerate(lines):\n",
    "    line.set_color(colorblind_palette[i % len(colorblind_palette)])\n",
    "\n",
    "# Customize legend text based on the label_file\n",
    "L = plt.legend()\n",
    "if label_file == \"manual\" or label_file == \"model\":\n",
    "    L.get_texts()[0].set_text('IPH=False')\n",
    "    L.get_texts()[1].set_text('IPH=True')\n",
    "elif label_file == \"area\":\n",
    "    for i, text in enumerate([0, 0.25, 0.5, 0.75, 1]):\n",
    "        L.get_texts()[i].set_text(f'IPH area={text}')\n",
    "elif label_file == \"prob\":\n",
    "    for i, text in enumerate([0, 0.25, 0.5, 0.75, 1]):\n",
    "        L.get_texts()[i].set_text(f'IPH prob={text}')\n",
    "\n",
    "# Save the plot to a file in the specified directory\n",
    "plt.savefig(SAVE_DIR + f'partial_effects_plot_female_IPH_{label_file}.pdf', format='pdf', dpi=300)\n",
    "\n",
    "# Turn on interactive plotting\n",
    "plt.ion()\n",
    "\n",
    "# Show the plot\n",
    "plt.show()"
   ]
  },
  {
   "cell_type": "code",
   "execution_count": null,
   "metadata": {},
   "outputs": [],
   "source": [
    "# Check the proportional hazards assumption for the Cox Proportional Hazards model for female patients\n",
    "# This function tests whether the proportional hazards assumption holds for each covariate\n",
    "# The p_value_threshold parameter is used to determine the significance level for the test\n",
    "\n",
    "# Generalized code for checking assumptions\n",
    "cph_f.check_assumptions(female_patients, p_value_threshold=0.05)"
   ]
  },
  {
   "cell_type": "code",
   "execution_count": null,
   "metadata": {},
   "outputs": [],
   "source": []
  },
  {
   "cell_type": "code",
   "execution_count": null,
   "metadata": {},
   "outputs": [],
   "source": [
    "# Initialize the Cox Proportional Hazards model for male patients\n",
    "cph_m = CoxPHFitter()\n",
    "\n",
    "# Filter the dataframe to include only male patients\n",
    "male_patients = df_analysis.loc[df_analysis['Gender'] == 1]\n",
    "\n",
    "# Drop the 'Gender' column as it is not needed for the model\n",
    "male_patients = male_patients.drop(['Gender'], axis=1)\n",
    "\n",
    "# Fit the Cox Proportional Hazards model to the filtered dataframe\n",
    "# 'time' is the duration column, and 'epcom.3years' is the event column\n",
    "# The show_progress parameter displays a progress bar during fitting\n",
    "cph_m.fit(male_patients, duration_col='time', event_col='epcom.3years', show_progress=True)\n",
    "\n",
    "# Print the summary of the fitted model\n",
    "cph_m.print_summary()"
   ]
  },
  {
   "cell_type": "code",
   "execution_count": null,
   "metadata": {},
   "outputs": [],
   "source": [
    "# Create a new figure with specified size\n",
    "plt.subplots(figsize=(10, 6))\n",
    "\n",
    "# Plot the Cox Proportional Hazards model summary for male patients\n",
    "cph_m.plot()\n",
    "\n",
    "# Add title and labels to the plot\n",
    "plt.title(\"Cox Proportional Hazards Model Summary for Male Patients\")\n",
    "plt.xlabel(\"Coefficient\")\n",
    "plt.ylabel(\"Variables\")\n",
    "\n",
    "# Remove the 'right' and 'top' spines for a cleaner look\n",
    "ax = plt.gca()  # Get current axes\n",
    "ax.spines[['right', 'top']].set_visible(False)\n",
    "\n",
    "# Show the plot\n",
    "plt.show()"
   ]
  },
  {
   "cell_type": "code",
   "execution_count": null,
   "metadata": {},
   "outputs": [],
   "source": [
    "# Create a new figure with specified size\n",
    "plt.figure(figsize=(10, 8))\n",
    "\n",
    "# Turn off interactive plotting\n",
    "plt.ioff()\n",
    "\n",
    "# Plot partial effects on outcome for different covariates if they exist in the dataframe\n",
    "if 'IPH.bin_yes' in df_analysis.columns.values:\n",
    "    cph_m.plot_partial_effects_on_outcome(covariates='IPH.bin_yes', values=[False, True], cmap='coolwarm')\n",
    "    label_file = \"manual\"\n",
    "if 'IPH' in df_analysis.columns.values:\n",
    "    cph_m.plot_partial_effects_on_outcome(covariates='IPH', values=[False, True], cmap='coolwarm')\n",
    "    label_file = \"model\"\n",
    "if 'area' in df_analysis.columns.values:\n",
    "    cph_m.plot_partial_effects_on_outcome(covariates='area', values=[0, 0.25, 0.5, 0.75, 1], cmap='coolwarm')\n",
    "    label_file = \"area\"\n",
    "if 'prob' in df_analysis.columns.values:\n",
    "    cph_m.plot_partial_effects_on_outcome(covariates='prob', values=[0, 0.25, 0.5, 0.75, 1], cmap='coolwarm')\n",
    "    label_file = \"prob\"\n",
    "\n",
    "# Set y-axis limits\n",
    "plt.ylim(0.6, 1.0)\n",
    "\n",
    "# Set x and y labels\n",
    "plt.xlabel(\"Time (years)\")\n",
    "plt.ylabel(\"Survival Probability\")\n",
    "\n",
    "# Remove the 'right' and 'top' spines for a cleaner look\n",
    "ax = plt.gca()  # Get current axes\n",
    "ax.spines[['right', 'top']].set_visible(False)\n",
    "\n",
    "# Update font size for the plot\n",
    "plt.rcParams.update({'font.size': 14})\n",
    "\n",
    "# Access the lines in the plot\n",
    "lines = ax.get_lines()\n",
    "\n",
    "# Custom colorblind palette (tab10)\n",
    "colorblind_palette = ['#1f77b4', '#ff7f0e', '#2ca02c', '#d62728', '#9467bd', \n",
    "                      '#8c564b', '#e377c2', '#7f7f7f', '#bcbd22', '#17becf']\n",
    "\n",
    "# Reassign colors to lines based on the palette\n",
    "for i, line in enumerate(lines):\n",
    "    line.set_color(colorblind_palette[i % len(colorblind_palette)])\n",
    "\n",
    "# Customize legend text based on the label_file\n",
    "L = plt.legend()\n",
    "if label_file == \"manual\" or label_file == \"model\":\n",
    "    L.get_texts()[0].set_text('IPH=False')\n",
    "    L.get_texts()[1].set_text('IPH=True')\n",
    "elif label_file == \"area\":\n",
    "    for i, text in enumerate([0, 0.25, 0.5, 0.75, 1]):\n",
    "        L.get_texts()[i].set_text(f'IPH area={text}')\n",
    "elif label_file == \"prob\":\n",
    "    for i, text in enumerate([0, 0.25, 0.5, 0.75, 1]):\n",
    "        L.get_texts()[i].set_text(f'IPH prob={text}')\n",
    "\n",
    "# Save the plot to a file in the specified directory\n",
    "plt.savefig(SAVE_DIR + f'partial_effects_plot_male_IPH_{label_file}.pdf', format='pdf', dpi=300)\n",
    "\n",
    "# Turn on interactive plotting\n",
    "plt.ion()\n",
    "\n",
    "# Show the plot\n",
    "plt.show()"
   ]
  },
  {
   "cell_type": "code",
   "execution_count": null,
   "metadata": {},
   "outputs": [],
   "source": [
    "# Check the proportional hazards assumption for the Cox Proportional Hazards model for male patients\n",
    "# This function tests whether the proportional hazards assumption holds for each covariate\n",
    "# The p_value_threshold parameter is used to determine the significance level for the test\n",
    "\n",
    "# Generalized code for checking assumptions\n",
    "cph_m.check_assumptions(male_patients, p_value_threshold=0.05)"
   ]
  }
 ],
 "metadata": {
  "kernelspec": {
   "display_name": "tpeters",
   "language": "python",
   "name": "python3"
  },
  "language_info": {
   "codemirror_mode": {
    "name": "ipython",
    "version": 3
   },
   "file_extension": ".py",
   "mimetype": "text/x-python",
   "name": "python",
   "nbconvert_exporter": "python",
   "pygments_lexer": "ipython3",
   "version": "3.12.0"
  }
 },
 "nbformat": 4,
 "nbformat_minor": 2
}
