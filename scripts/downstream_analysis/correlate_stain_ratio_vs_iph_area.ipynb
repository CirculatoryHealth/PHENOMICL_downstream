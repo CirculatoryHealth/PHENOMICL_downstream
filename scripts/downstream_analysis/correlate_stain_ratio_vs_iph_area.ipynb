{
 "cells": [
  {
   "cell_type": "code",
   "execution_count": null,
   "metadata": {},
   "outputs": [],
   "source": [
    "# importing libraries\n",
    "\n",
    "import pyreadr\n",
    "import pandas as pd\n",
    "import collections\n",
    "import numpy as np\n",
    "import re\n",
    "\n",
    "import matplotlib.pyplot as plt\n",
    "from scipy.stats import mannwhitneyu\n",
    "import seaborn as sns\n",
    "from matplotlib.patches import Patch\n",
    "import pyreadr\n",
    "from scipy.stats import pearsonr"
   ]
  },
  {
   "cell_type": "code",
   "execution_count": null,
   "metadata": {},
   "outputs": [],
   "source": [
    "import os\n",
    "\n",
    "# Check if the directory 'OUT' exists, if not, create it\n",
    "output_dir = \"./OUT/\"\n",
    "if not os.path.exists(output_dir):\n",
    "    os.makedirs(output_dir)"
   ]
  },
  {
   "cell_type": "code",
   "execution_count": null,
   "metadata": {},
   "outputs": [],
   "source": [
    "# Load the IPH results datase\n",
    "df_iph = pd.read_csv(\"<path_to_your_dataset>/HE_samples_IPH.csv\")\n",
    "\n",
    "# Display the DataFrame\n",
    "df_iph"
   ]
  },
  {
   "cell_type": "code",
   "execution_count": null,
   "metadata": {},
   "outputs": [],
   "source": [
    "# Extract the SNR (StudyNumber) from the 'case_id' column using a regular expression\n",
    "# The regular expression searches for patterns starting with 'AE' or digits (0-9)\n",
    "df_iph[\"SNR\"] = [re.search(r\"^(AE|[0-9]*)\", i).group(0) for i in df_iph[\"case_id\"]]"
   ]
  },
  {
   "cell_type": "code",
   "execution_count": null,
   "metadata": {},
   "outputs": [],
   "source": [
    "# Load the stain data from a CSV file\n",
    "# Note: Replace '<path_to_your_dataset>' with the actual path to your dataset\n",
    "df_stain_together = pd.read_csv(\"<path_to_your_dataset>/stains_cellprofiler_output.csv\")\n",
    "\n",
    "# Display the DataFrame\n",
    "df_stain_together"
   ]
  },
  {
   "cell_type": "code",
   "execution_count": null,
   "metadata": {},
   "outputs": [],
   "source": [
    "# Normalize the stain data by calculating the log2 ratio of counts to tissue area for each stain\n",
    "# This helps in comparing the stain counts relative to the tissue area\n",
    "\n",
    "# List of stains to normalize\n",
    "stains = ['CD34', 'CD68', 'CD66b', 'SMA', 'HE', 'EVG', 'FIBRIN', 'GLYCC', 'SR']\n",
    "\n",
    "# Normalize the stains\n",
    "for stain in stains:\n",
    "    if stain in ['EVG', 'FIBRIN', 'GLYCC', 'SR']:\n",
    "        # For these stains, use direct ratio\n",
    "        df_stain_together[f'{stain}-TISSUE'] = df_stain_together[stain] / df_stain_together[f'{stain}_TISSUE']\n",
    "    else:\n",
    "        # For other stains, use log2 ratio\n",
    "        df_stain_together[f'{stain}-TISSUE'] = np.log2(df_stain_together[f'{stain}_count'] + 1) / np.log2(df_stain_together[f'{stain}_TISSUE'] + 1)"
   ]
  },
  {
   "cell_type": "code",
   "execution_count": null,
   "metadata": {},
   "outputs": [],
   "source": [
    "# Find the intersection of 'SNR' values between the stain data and IPH results data\n",
    "# This helps in identifying common samples present in both datasets\n",
    "intersection = set(df_stain_together['SNR']) & set(df_iph['SNR'])"
   ]
  },
  {
   "cell_type": "code",
   "execution_count": null,
   "metadata": {},
   "outputs": [],
   "source": [
    "# Filter the stain data to include only the samples present in the intersection\n",
    "df_stain_together = df_stain_together[df_stain_together['SNR'].isin(list(intersection))]\n",
    "\n",
    "# Filter the IPH results data to include only the samples present in the intersection\n",
    "df_iph = df_iph[df_iph['SNR'].isin(list(intersection))]"
   ]
  },
  {
   "cell_type": "code",
   "execution_count": null,
   "metadata": {},
   "outputs": [],
   "source": [
    "# Merge the IPH results data with the stain data on the 'SNR' column\n",
    "# This combines the two datasets based on the common 'SNR' values\n",
    "df_combined = df_iph.merge(df_stain_together, how='inner', on='SNR')\n"
   ]
  },
  {
   "cell_type": "code",
   "execution_count": null,
   "metadata": {},
   "outputs": [],
   "source": [
    "# Select relevant columns for analysis\n",
    "# This includes normalized stain data and outcome variables\n",
    "selected_columns = [\"CD34-TISSUE\", \"CD68-TISSUE\", \"CD66b-TISSUE\", \"SMA-TISSUE\", \"EVG-TISSUE\", \"FIBRIN-TISSUE\", \"GLYCC-TISSUE\", \"SR-TISSUE\", \"HE-TISSUE\", \"area\", \"prob\"]\n",
    "\n",
    "# Create a new DataFrame with the selected columns\n",
    "df_test = df_combined[selected_columns]\n",
    "\n",
    "# Count the number of non-NA/null observations for each column\n",
    "df_counts = df_test.apply(lambda x: x.notna().sum(), axis=0)\n",
    "\n",
    "# Display the counts of non-NA/null observations\n",
    "df_counts"
   ]
  },
  {
   "cell_type": "code",
   "execution_count": null,
   "metadata": {},
   "outputs": [],
   "source": [
    "# Display the DataFrame containing selected columns for analysis\n",
    "# This DataFrame includes normalized stain data and outcome variables\n",
    "\n",
    "# Display the DataFrame\n",
    "df_test"
   ]
  },
  {
   "cell_type": "code",
   "execution_count": null,
   "metadata": {},
   "outputs": [],
   "source": [
    "# Calculate the correlation matrix for the selected columns in the DataFrame\n",
    "# This matrix shows the Pearson correlation coefficients between pairs of columns\n",
    "corr_outcome = df_test.corr()\n",
    "\n",
    "# Display the correlation matrix\n",
    "corr_outcome"
   ]
  },
  {
   "cell_type": "code",
   "execution_count": null,
   "metadata": {},
   "outputs": [],
   "source": [
    "# Calculate the p-values for the Pearson correlation coefficients between pairs of columns\n",
    "# The method uses a lambda function to apply the pearsonr function from scipy.stats to each pair of columns\n",
    "# The pearsonr function returns a tuple (correlation coefficient, p-value), and we extract the p-value\n",
    "# Subtract the identity matrix to set the diagonal to zero, as we don't need p-values for self-correlation\n",
    "\n",
    "pval = df_test.corr(method=lambda x, y: pearsonr(x, y)[1]) - np.eye(*corr_outcome.shape)\n",
    "\n",
    "# Display the matrix of p-values\n",
    "pval"
   ]
  },
  {
   "cell_type": "code",
   "execution_count": null,
   "metadata": {},
   "outputs": [],
   "source": []
  },
  {
   "cell_type": "code",
   "execution_count": null,
   "metadata": {},
   "outputs": [],
   "source": [
    "from scipy.stats import norm\n",
    "\n",
    "def pearson_ci(r, n, confidence=0.95):\n",
    "    \"\"\"\n",
    "    Calculate the confidence interval for a Pearson correlation coefficient.\n",
    "\n",
    "    Parameters:\n",
    "    r (float): Pearson correlation coefficient.\n",
    "    n (int): Number of samples.\n",
    "    confidence (float): Confidence level for the interval (default is 0.95).\n",
    "\n",
    "    Returns:\n",
    "    tuple: Lower and upper bounds of the confidence interval.\n",
    "    \"\"\"\n",
    "    # Fisher's Z-transformation\n",
    "    z = 0.5 * np.log((1 + r) / (1 - r))\n",
    "    \n",
    "    # Standard error of the Z-transformation\n",
    "    se_z = 1 / np.sqrt(n - 3)\n",
    "    \n",
    "    # Critical value for the desired confidence level\n",
    "    z_crit = norm.ppf(1 - (1 - confidence) / 2)\n",
    "    \n",
    "    # Confidence interval in Z-space\n",
    "    z_lower = z - z_crit * se_z\n",
    "    z_upper = z + z_crit * se_z\n",
    "    \n",
    "    # Back-transform to r-space\n",
    "    r_lower = (np.exp(2 * z_lower) - 1) / (np.exp(2 * z_lower) + 1)\n",
    "    r_upper = (np.exp(2 * z_upper) - 1) / (np.exp(2 * z_upper) + 1)\n",
    "    \n",
    "    return r_lower, r_upper"
   ]
  },
  {
   "cell_type": "code",
   "execution_count": null,
   "metadata": {},
   "outputs": [],
   "source": [
    "# Iterate over each stain to calculate the 95% confidence interval for the Pearson correlation coefficient\n",
    "for stain in [\"CD34-TISSUE\", \"CD68-TISSUE\", \"CD66b-TISSUE\", \"SMA-TISSUE\", \"EVG-TISSUE\", \"FIBRIN-TISSUE\", \"GLYCC-TISSUE\", \"SR-TISSUE\", \"HE-TISSUE\"]:\n",
    "    # Get the Pearson correlation coefficient between the stain and the 'area' column\n",
    "    r = corr_outcome[\"area\"][stain]\n",
    "    \n",
    "    # Get the number of non-NA/null observations for the stain\n",
    "    n = df_counts[stain]\n",
    "    \n",
    "    # Calculate the 95% confidence interval for the Pearson correlation coefficient\n",
    "    r_lower, r_upper = pearson_ci(r, n, 0.95)\n",
    "    \n",
    "    # Print the confidence interval for the stain\n",
    "    print(f\"[{stain}] 95% Confidence Interval: [{r_lower:.5f}, {r_upper:.5f}]\")"
   ]
  },
  {
   "cell_type": "code",
   "execution_count": null,
   "metadata": {},
   "outputs": [],
   "source": []
  }
 ],
 "metadata": {
  "kernelspec": {
   "display_name": "tpeters",
   "language": "python",
   "name": "python3"
  },
  "language_info": {
   "codemirror_mode": {
    "name": "ipython",
    "version": 3
   },
   "file_extension": ".py",
   "mimetype": "text/x-python",
   "name": "python",
   "nbconvert_exporter": "python",
   "pygments_lexer": "ipython3",
   "version": "3.12.0"
  }
 },
 "nbformat": 4,
 "nbformat_minor": 2
}
